{
 "cells": [
  {
   "cell_type": "markdown",
   "id": "d6900781",
   "metadata": {},
   "source": [
    "## 1. Descripción del dataset"
   ]
  },
  {
   "cell_type": "markdown",
   "id": "ed8ab95f",
   "metadata": {},
   "source": [
    "¿Por qué es importante y qué pregunta/problema pretende responder?"
   ]
  },
  {
   "cell_type": "markdown",
   "id": "cff4313e",
   "metadata": {},
   "source": [
    "El objetivo es determinar las variables que impactan en el ADR (del inglés, Average Daily Room \"€\"). Las variables estudiadas son:\n",
    "\n",
    "- **hotel:** Hotel (H1 = Resort Hotel or H2 = City Hotel)\n",
    "- **lead_time:** Number of days that elapsed between the entering date of the booking into the PMS and the arrival date\n",
    "- **arrival_date_year:** Year of arrival date\n",
    "- **arrival_date_month:** Month of arrival date\n",
    "- **arrival_date_week_number:** Week number of year for arrival date\n",
    "- **stays_in_weekend_nights:** Number of weekend nights (Saturday or Sunday) the guest stayed or booked to stay at the hotel\n",
    "- **stays_in_week_nights:** Number of week nights (Monday to Friday) the guest stayed or booked to stay at the hotel\n",
    "- **country:** Country of origin. Categories are represented in the ISO 3155–3:2013 format\n",
    "- **market_segment:** Market segment designation. In categories, the term “TA” means “Travel Agents” and “TO” means “Tour Operators”\n",
    "- **adr:** Average Daily Rate as defined by dividing the sum of all lodging transactions by the total number of staying nights"
   ]
  },
  {
   "cell_type": "markdown",
   "id": "34a28932",
   "metadata": {},
   "source": [
    "# 2. Integración y selección de los datos"
   ]
  },
  {
   "cell_type": "code",
   "execution_count": 45,
   "id": "45529032",
   "metadata": {},
   "outputs": [],
   "source": [
    "import numpy as np\n",
    "import pandas as pd\n",
    "import matplotlib.pyplot as plt\n",
    "import seaborn as sns\n",
    "from datetime import datetime\n",
    "import requests\n",
    "from bs4 import BeautifulSoup as BS"
   ]
  },
  {
   "cell_type": "code",
   "execution_count": 3,
   "id": "2288ac5e",
   "metadata": {},
   "outputs": [
    {
     "data": {
      "text/plain": [
       "(119390, 32)"
      ]
     },
     "execution_count": 3,
     "metadata": {},
     "output_type": "execute_result"
    }
   ],
   "source": [
    "# Leemos el dataset\n",
    "data = pd.read_csv('hotel_bookings.csv')\n",
    "# Comprobamos sus dimensiones\n",
    "data.shape"
   ]
  },
  {
   "cell_type": "code",
   "execution_count": 4,
   "id": "8c8136e9",
   "metadata": {},
   "outputs": [],
   "source": [
    "# Mantenemos únicamente las variables que nos interesan\n",
    "variables = [\n",
    "    \"hotel\", \"lead_time\",\n",
    "    \"arrival_date_year\", \"arrival_date_month\", \"arrival_date_week_number\",\n",
    "    \"stays_in_weekend_nights\", \"stays_in_week_nights\",\n",
    "    \"country\", \"market_segment\",\n",
    "    \"adr\"\n",
    "]\n",
    "\n",
    "data = data[variables]"
   ]
  },
  {
   "cell_type": "code",
   "execution_count": 6,
   "id": "cd133d49",
   "metadata": {},
   "outputs": [
    {
     "data": {
      "text/plain": [
       "(119390, 10)"
      ]
     },
     "execution_count": 6,
     "metadata": {},
     "output_type": "execute_result"
    }
   ],
   "source": [
    "# Comprobamos sus dimensiones\n",
    "data.shape"
   ]
  },
  {
   "cell_type": "code",
   "execution_count": 8,
   "id": "3dee1320",
   "metadata": {
    "scrolled": false
   },
   "outputs": [
    {
     "name": "stdout",
     "output_type": "stream",
     "text": [
      "<class 'pandas.core.frame.DataFrame'>\n",
      "RangeIndex: 119390 entries, 0 to 119389\n",
      "Data columns (total 10 columns):\n",
      " #   Column                    Non-Null Count   Dtype  \n",
      "---  ------                    --------------   -----  \n",
      " 0   hotel                     119390 non-null  object \n",
      " 1   lead_time                 119390 non-null  int64  \n",
      " 2   arrival_date_year         119390 non-null  int64  \n",
      " 3   arrival_date_month        119390 non-null  object \n",
      " 4   arrival_date_week_number  119390 non-null  int64  \n",
      " 5   stays_in_weekend_nights   119390 non-null  int64  \n",
      " 6   stays_in_week_nights      119390 non-null  int64  \n",
      " 7   country                   118902 non-null  object \n",
      " 8   market_segment            119390 non-null  object \n",
      " 9   adr                       119390 non-null  float64\n",
      "dtypes: float64(1), int64(5), object(4)\n",
      "memory usage: 9.1+ MB\n"
     ]
    }
   ],
   "source": [
    "data.info()"
   ]
  },
  {
   "cell_type": "markdown",
   "id": "05b31daf",
   "metadata": {},
   "source": [
    "A simple vista, parece ser que los datos están en el formato esperado. Contamos con cuatro variables categóricas:\n",
    "\n",
    "- **hotel:** tipo de hotel ('Resort Hotel' o 'City Hotel')\n",
    "- **arrival_date_month:** mes de llegada ('January', 'February'...)\n",
    "- **country:** país de origen representado en el formato ISO 3155–3:2013 ('ESP', 'USA'...)\n",
    "- **market_segment:** segmento de mercado ('Direct', 'Corporate' 'Online TA'...)"
   ]
  },
  {
   "cell_type": "markdown",
   "id": "94c74289",
   "metadata": {},
   "source": [
    "y seis variables numéricas:\n",
    "\n",
    "- **lead_time:** días de antelación para la reserva\n",
    "- **arrival_date_year:** año de llegada\n",
    "- **arrival_date_week_number:** semana del año de llegada\n",
    "- **stays_in_weekend_nights:** noches del fin de semana (Sábado o Domingo) reservadas \n",
    "- **stays_in_week_nights:** noches de la semana (Lunes a Viernes) reservadas\n",
    "- **adr:** precio medio de la noche, dividiendo el precio total por el número de noches reservadas"
   ]
  },
  {
   "cell_type": "markdown",
   "id": "5fad43c6",
   "metadata": {},
   "source": [
    "en total, diez variables."
   ]
  },
  {
   "cell_type": "markdown",
   "id": "96679da7",
   "metadata": {},
   "source": [
    "# 3. Limpieza de los datos"
   ]
  },
  {
   "cell_type": "markdown",
   "id": "0e76b9da",
   "metadata": {},
   "source": [
    "1. ¿Los datos contienen ceros o elementos vacíos? ¿Cómo gestionarías cada uno de estos casos?\n",
    "2. Identificación y tratamiento de valores extremos."
   ]
  },
  {
   "cell_type": "markdown",
   "id": "51438236",
   "metadata": {},
   "source": [
    "Comprobamos la existencia de valores nulos en el conjunto de datos:"
   ]
  },
  {
   "cell_type": "code",
   "execution_count": 14,
   "id": "d03cfda0",
   "metadata": {
    "scrolled": false
   },
   "outputs": [
    {
     "data": {
      "image/png": "[encoded data removed]",
      "text/plain": [
       "<Figure size 864x432 with 2 Axes>"
      ]
     },
     "metadata": {
      "needs_background": "light"
     },
     "output_type": "display_data"
    }
   ],
   "source": [
    "plt.figure(figsize=(12, 6))\n",
    "sns.heatmap(data.isnull());"
   ]
  },
  {
   "cell_type": "markdown",
   "id": "acfb61df",
   "metadata": {},
   "source": [
    "Observamos que algunas reservas no tienen informadas el país de origen, pero, como su número es insignificante, las eliminamos del conjunto de datos:"
   ]
  },
  {
   "cell_type": "code",
   "execution_count": 16,
   "id": "ec97c72d",
   "metadata": {},
   "outputs": [],
   "source": [
    "data = data.dropna()"
   ]
  },
  {
   "cell_type": "markdown",
   "id": "05207f51",
   "metadata": {},
   "source": [
    "## 3.1. Preprocesado de variables categóricas"
   ]
  },
  {
   "cell_type": "markdown",
   "id": "28e19d1a",
   "metadata": {},
   "source": [
    "La comprobación que hemos hecho no es suficiente para garantizar la ausencia de valores desconocidos. Estudiemos variable por variable en búsqueda de anomalías que nos sugieran que su valor es desconocido:"
   ]
  },
  {
   "cell_type": "markdown",
   "id": "e1429f9c",
   "metadata": {},
   "source": [
    "### **hotel**"
   ]
  },
  {
   "cell_type": "code",
   "execution_count": 40,
   "id": "bb2d0d79",
   "metadata": {},
   "outputs": [
    {
     "data": {
      "text/plain": [
       "['Resort Hotel', 'City Hotel']"
      ]
     },
     "execution_count": 40,
     "metadata": {},
     "output_type": "execute_result"
    }
   ],
   "source": [
    "list(data[\"hotel\"].unique())"
   ]
  },
  {
   "cell_type": "markdown",
   "id": "7e260b02",
   "metadata": {},
   "source": [
    "### **arrival_date_month**"
   ]
  },
  {
   "cell_type": "code",
   "execution_count": 39,
   "id": "30e3c650",
   "metadata": {
    "scrolled": false
   },
   "outputs": [
    {
     "data": {
      "text/plain": [
       "['January',\n",
       " 'February',\n",
       " 'March',\n",
       " 'April',\n",
       " 'May',\n",
       " 'June',\n",
       " 'July',\n",
       " 'August',\n",
       " 'September',\n",
       " 'October',\n",
       " 'November',\n",
       " 'December']"
      ]
     },
     "execution_count": 39,
     "metadata": {},
     "output_type": "execute_result"
    }
   ],
   "source": [
    "sorted(data[\"arrival_date_month\"].unique(), key = lambda m: datetime.strptime(m, \"%B\"))"
   ]
  },
  {
   "cell_type": "markdown",
   "id": "db180c76",
   "metadata": {},
   "source": [
    "### **country**"
   ]
  },
  {
   "cell_type": "code",
   "execution_count": 88,
   "id": "517fa55c",
   "metadata": {},
   "outputs": [
    {
     "data": {
      "text/plain": [
       "['PRT', 'GBR', 'USA', 'ESP', 'IRL']"
      ]
     },
     "execution_count": 88,
     "metadata": {},
     "output_type": "execute_result"
    }
   ],
   "source": [
    "countries = set(data[\"country\"].unique())\n",
    "list(data[\"country\"].unique()[0:5])"
   ]
  },
  {
   "cell_type": "code",
   "execution_count": 55,
   "id": "ce3741e3",
   "metadata": {},
   "outputs": [
    {
     "data": {
      "text/plain": [
       "177"
      ]
     },
     "execution_count": 55,
     "metadata": {},
     "output_type": "execute_result"
    }
   ],
   "source": [
    "len(data[\"country\"].unique())"
   ]
  },
  {
   "cell_type": "markdown",
   "id": "aa22d29e",
   "metadata": {},
   "source": [
    "El conjunto de datos contiene reservas de 177 países. A continuación, vamos a comprobar que todos estos están en **formato ISO 3166-1 alpha-3**, como indica el autor del *dataset*. Para ello, obtenemos la lista de Wikipedia:"
   ]
  },
  {
   "cell_type": "code",
   "execution_count": 62,
   "id": "9763e9aa",
   "metadata": {},
   "outputs": [],
   "source": [
    "headers = {\n",
    "    \"Accept\": \"text/html,application/xhtml+xml,application/xml;q=0.9,image/webp,\\\n",
    "    */*;q=0.8\",\n",
    "    \"Accept-Encoding\": \"gzip, deflate, sdch, br\",\n",
    "    \"Accept-Language\": \"en-US,en;q=0.8\",\n",
    "    \"Cache-Control\": \"no-cache\",\n",
    "    \"dnt\": \"1\",\n",
    "    \"Pragma\": \"no-cache\",\n",
    "    \"Upgrade-Insecure-Requests\": \"1\",\n",
    "    \"User-Agent\": \"Mozilla/5.0 (Macintosh; Intel Mac OS X 10_12_3) AppleWebKit/5\\\n",
    "    37.36 (KHTML, like Gecko) Chrome/56.0.2924.87 Safari/537.36\"\n",
    "}\n",
    "\n",
    "url = \"https://en.wikipedia.org/wiki/List_of_ISO_3166_country_codes\"\n",
    "\n",
    "response = requests.get(url, stream=True, headers=headers)\n",
    "\n",
    "soup = BS(response.content, 'html.parser')\n",
    "\n",
    "fields = soup.select('a[title=\"ISO 3166-1 alpha-3\"] span')\n",
    "\n",
    "ISO = set()\n",
    "\n",
    "for field in fields:\n",
    "    code = field.text\n",
    "    ISO.add(code)"
   ]
  },
  {
   "cell_type": "markdown",
   "id": "65c48009",
   "metadata": {},
   "source": [
    "Comprobamos que todos los códigos están contenidos en la lista que obtuvimos de Wikipedia:"
   ]
  },
  {
   "cell_type": "code",
   "execution_count": 65,
   "id": "adacf8e7",
   "metadata": {},
   "outputs": [
    {
     "data": {
      "text/plain": [
       "False"
      ]
     },
     "execution_count": 65,
     "metadata": {},
     "output_type": "execute_result"
    }
   ],
   "source": [
    "(set(ISO) & set(countries)) == set(countries)"
   ]
  },
  {
   "cell_type": "code",
   "execution_count": 67,
   "id": "3fab016e",
   "metadata": {
    "scrolled": true
   },
   "outputs": [
    {
     "data": {
      "text/plain": [
       "{'CN', 'TMP'}"
      ]
     },
     "execution_count": 67,
     "metadata": {},
     "output_type": "execute_result"
    }
   ],
   "source": [
    "countries - ISO"
   ]
  },
  {
   "cell_type": "markdown",
   "id": "bdbf2648",
   "metadata": {},
   "source": [
    "Por un lado, 'CN' hace referencia a China, pero está en el formato ISO 3166-1 alpha-2, por lo que lo transformamos a su equivalente, 'CHN', en formato alpha-3:"
   ]
  },
  {
   "cell_type": "code",
   "execution_count": 75,
   "id": "46f4349f",
   "metadata": {},
   "outputs": [],
   "source": [
    "data.loc[data[\"country\"] == \"CN\", \"country\"] = \"CHN\""
   ]
  },
  {
   "cell_type": "markdown",
   "id": "a1684723",
   "metadata": {},
   "source": [
    "Por otro, desconocemos el país al que hace referencia 'TMP', por lo que procedemos a su eliminación del conjunto de datos, no sin antes comprobar que solo un % pequeño de observaciones hacen referencia a él:"
   ]
  },
  {
   "cell_type": "code",
   "execution_count": 92,
   "id": "eb7e46e5",
   "metadata": {},
   "outputs": [
    {
     "data": {
      "text/plain": [
       "0.0"
      ]
     },
     "execution_count": 92,
     "metadata": {},
     "output_type": "execute_result"
    }
   ],
   "source": [
    "(data.loc[data[\"country\"] == \"TMP\", \"country\"].count()/len(data))*100"
   ]
  },
  {
   "cell_type": "code",
   "execution_count": 87,
   "id": "1fa67a31",
   "metadata": {},
   "outputs": [],
   "source": [
    "data = data.drop(data.loc[data[\"country\"] == \"TMP\", \"country\"].index)"
   ]
  },
  {
   "cell_type": "markdown",
   "id": "5f9fbd8a",
   "metadata": {},
   "source": [
    "### **market_segment**"
   ]
  },
  {
   "cell_type": "code",
   "execution_count": 90,
   "id": "a91d38e5",
   "metadata": {},
   "outputs": [
    {
     "data": {
      "text/plain": [
       "['Direct',\n",
       " 'Corporate',\n",
       " 'Online TA',\n",
       " 'Offline TA/TO',\n",
       " 'Complementary',\n",
       " 'Groups',\n",
       " 'Undefined',\n",
       " 'Aviation']"
      ]
     },
     "execution_count": 90,
     "metadata": {},
     "output_type": "execute_result"
    }
   ],
   "source": [
    "list(data[\"market_segment\"].unique())"
   ]
  },
  {
   "cell_type": "markdown",
   "id": "99f09919",
   "metadata": {},
   "source": [
    "La variable *market_segment* tampoco se libra de los valores nulos. Comprobamos que son una parte pequeña del conjunto de datos y los eliminamos:"
   ]
  },
  {
   "cell_type": "code",
   "execution_count": 93,
   "id": "1b647b12",
   "metadata": {},
   "outputs": [
    {
     "data": {
      "text/plain": [
       "0.0016820999335570527"
      ]
     },
     "execution_count": 93,
     "metadata": {},
     "output_type": "execute_result"
    }
   ],
   "source": [
    "(data.loc[data[\"market_segment\"] == \"Undefined\", \"market_segment\"].count()/len(data))*100"
   ]
  },
  {
   "cell_type": "code",
   "execution_count": 94,
   "id": "aefe1051",
   "metadata": {},
   "outputs": [],
   "source": [
    "data = data.drop(data.loc[data[\"market_segment\"] == \"Undefined\", \"market_segment\"].index)"
   ]
  },
  {
   "cell_type": "markdown",
   "id": "c330a236",
   "metadata": {},
   "source": [
    "## 3.2. Preprocesado de variables numéricas"
   ]
  },
  {
   "cell_type": "markdown",
   "id": "22f7f311",
   "metadata": {},
   "source": [
    "### **lead_time**"
   ]
  },
  {
   "cell_type": "code",
   "execution_count": 99,
   "id": "8d792f5c",
   "metadata": {},
   "outputs": [
    {
     "data": {
      "text/html": [
       "<div>\n",
       "<style scoped>\n",
       "    .dataframe tbody tr th:only-of-type {\n",
       "        vertical-align: middle;\n",
       "    }\n",
       "\n",
       "    .dataframe tbody tr th {\n",
       "        vertical-align: top;\n",
       "    }\n",
       "\n",
       "    .dataframe thead th {\n",
       "        text-align: right;\n",
       "    }\n",
       "</style>\n",
       "<table border=\"1\" class=\"dataframe\">\n",
       "  <thead>\n",
       "    <tr style=\"text-align: right;\">\n",
       "      <th></th>\n",
       "      <th>count</th>\n",
       "      <th>mean</th>\n",
       "      <th>std</th>\n",
       "      <th>min</th>\n",
       "      <th>25%</th>\n",
       "      <th>50%</th>\n",
       "      <th>75%</th>\n",
       "      <th>max</th>\n",
       "    </tr>\n",
       "  </thead>\n",
       "  <tbody>\n",
       "    <tr>\n",
       "      <th>lead_time</th>\n",
       "      <td>118897.0</td>\n",
       "      <td>104.311101</td>\n",
       "      <td>106.904193</td>\n",
       "      <td>0.0</td>\n",
       "      <td>18.0</td>\n",
       "      <td>69.0</td>\n",
       "      <td>161.0</td>\n",
       "      <td>737.0</td>\n",
       "    </tr>\n",
       "  </tbody>\n",
       "</table>\n",
       "</div>"
      ],
      "text/plain": [
       "              count        mean         std  min   25%   50%    75%    max\n",
       "lead_time  118897.0  104.311101  106.904193  0.0  18.0  69.0  161.0  737.0"
      ]
     },
     "execution_count": 99,
     "metadata": {},
     "output_type": "execute_result"
    }
   ],
   "source": [
    "pd.DataFrame(data[\"lead_time\"].describe()).transpose()"
   ]
  },
  {
   "cell_type": "markdown",
   "id": "5ca1a59f",
   "metadata": {},
   "source": [
    "Parece raro que una reserva se haga con 737 días de antelación. Vamos a representar los valores en una caja de bigotes para identificar valores extremos:"
   ]
  },
  {
   "cell_type": "code",
   "execution_count": 128,
   "id": "61d1d8b9",
   "metadata": {},
   "outputs": [
    {
     "name": "stderr",
     "output_type": "stream",
     "text": [
      "/Users/mohammed/opt/anaconda3/lib/python3.8/site-packages/seaborn/_decorators.py:36: FutureWarning: Pass the following variable as a keyword arg: x. From version 0.12, the only valid positional argument will be `data`, and passing other arguments without an explicit keyword will result in an error or misinterpretation.\n",
      "  warnings.warn(\n"
     ]
    },
    {
     "data": {
      "image/png": "[encoded data removed]",
      "text/plain": [
       "<Figure size 864x432 with 1 Axes>"
      ]
     },
     "metadata": {},
     "output_type": "display_data"
    }
   ],
   "source": [
    "plt.figure(figsize=(12, 6))\n",
    "plt.style.use('dark_background')\n",
    "\n",
    "sns.boxplot(data['lead_time'])\n",
    "\n",
    "plt.show()"
   ]
  },
  {
   "cell_type": "markdown",
   "id": "52f64b4d",
   "metadata": {},
   "source": [
    "Establecemos que aquellos valores que sean mayores que 1.5 veces el valor del rango intercuartil (IQR) son anómalos."
   ]
  },
  {
   "cell_type": "code",
   "execution_count": 133,
   "id": "bf0961c2",
   "metadata": {},
   "outputs": [
    {
     "data": {
      "text/plain": [
       "143.0"
      ]
     },
     "execution_count": 133,
     "metadata": {},
     "output_type": "execute_result"
    }
   ],
   "source": [
    "# ¿Cuál es el rango intercuartil de 'lead_time'?\n",
    "Q1, Q3 = data['lead_time'].quantile([.25, .75])\n",
    "# Rango intercuartil = Tercer cuartil - Primer cuartil\n",
    "IQR = Q3 - Q1 \n",
    "IQR"
   ]
  },
  {
   "cell_type": "code",
   "execution_count": 134,
   "id": "03fc120f",
   "metadata": {},
   "outputs": [
    {
     "data": {
      "text/plain": [
       "2982"
      ]
     },
     "execution_count": 134,
     "metadata": {},
     "output_type": "execute_result"
    }
   ],
   "source": [
    "# ¿Cuántos valores anómalos tiene la variable 'lead_time'?\n",
    "((data['lead_time'] < (Q1 - 1.5 * IQR)) | (data['lead_time'] > (Q3 + 1.5 * IQR))).sum()"
   ]
  },
  {
   "cell_type": "code",
   "execution_count": 135,
   "id": "1d5f10c1",
   "metadata": {},
   "outputs": [
    {
     "data": {
      "text/plain": [
       "2.5080531888945896"
      ]
     },
     "execution_count": 135,
     "metadata": {},
     "output_type": "execute_result"
    }
   ],
   "source": [
    "# ¿Cuál es el % de estos comparado con el total?\n",
    "((data['lead_time'] < (Q1 - 1.5 * IQR)) | (data['lead_time'] > (Q3 + 1.5 * IQR))).sum()*100/len(data)"
   ]
  },
  {
   "cell_type": "markdown",
   "id": "e44e3c50",
   "metadata": {},
   "source": [
    "### **arrival_date_year**"
   ]
  },
  {
   "cell_type": "code",
   "execution_count": 102,
   "id": "91ec6db0",
   "metadata": {},
   "outputs": [
    {
     "data": {
      "text/plain": [
       "[2015, 2016, 2017]"
      ]
     },
     "execution_count": 102,
     "metadata": {},
     "output_type": "execute_result"
    }
   ],
   "source": [
    "list(data[\"arrival_date_year\"].unique())"
   ]
  },
  {
   "cell_type": "markdown",
   "id": "0f07b44b",
   "metadata": {},
   "source": [
    "### **arrival_date_week_number**"
   ]
  },
  {
   "cell_type": "code",
   "execution_count": 106,
   "id": "cbaf227a",
   "metadata": {},
   "outputs": [
    {
     "data": {
      "text/html": [
       "<div>\n",
       "<style scoped>\n",
       "    .dataframe tbody tr th:only-of-type {\n",
       "        vertical-align: middle;\n",
       "    }\n",
       "\n",
       "    .dataframe tbody tr th {\n",
       "        vertical-align: top;\n",
       "    }\n",
       "\n",
       "    .dataframe thead th {\n",
       "        text-align: right;\n",
       "    }\n",
       "</style>\n",
       "<table border=\"1\" class=\"dataframe\">\n",
       "  <thead>\n",
       "    <tr style=\"text-align: right;\">\n",
       "      <th></th>\n",
       "      <th>count</th>\n",
       "      <th>mean</th>\n",
       "      <th>std</th>\n",
       "      <th>min</th>\n",
       "      <th>25%</th>\n",
       "      <th>50%</th>\n",
       "      <th>75%</th>\n",
       "      <th>max</th>\n",
       "    </tr>\n",
       "  </thead>\n",
       "  <tbody>\n",
       "    <tr>\n",
       "      <th>arrival_date_week_number</th>\n",
       "      <td>118897.0</td>\n",
       "      <td>27.166262</td>\n",
       "      <td>13.589722</td>\n",
       "      <td>1.0</td>\n",
       "      <td>16.0</td>\n",
       "      <td>28.0</td>\n",
       "      <td>38.0</td>\n",
       "      <td>53.0</td>\n",
       "    </tr>\n",
       "  </tbody>\n",
       "</table>\n",
       "</div>"
      ],
      "text/plain": [
       "                             count       mean        std  min   25%   50%  \\\n",
       "arrival_date_week_number  118897.0  27.166262  13.589722  1.0  16.0  28.0   \n",
       "\n",
       "                           75%   max  \n",
       "arrival_date_week_number  38.0  53.0  "
      ]
     },
     "execution_count": 106,
     "metadata": {},
     "output_type": "execute_result"
    }
   ],
   "source": [
    "pd.DataFrame(data[\"arrival_date_week_number\"].describe()).transpose()"
   ]
  },
  {
   "cell_type": "code",
   "execution_count": 104,
   "id": "a8dbd674",
   "metadata": {},
   "outputs": [
    {
     "data": {
      "text/plain": [
       "53"
      ]
     },
     "execution_count": 104,
     "metadata": {},
     "output_type": "execute_result"
    }
   ],
   "source": [
    "len(data[\"arrival_date_week_number\"].unique())"
   ]
  },
  {
   "cell_type": "markdown",
   "id": "86efd0f7",
   "metadata": {},
   "source": [
    "La muestra de reservas obtenida cubre todas las semanas del año."
   ]
  },
  {
   "cell_type": "code",
   "execution_count": 143,
   "id": "2b00e6a8",
   "metadata": {},
   "outputs": [
    {
     "data": {
      "text/plain": [
       "dtype('int64')"
      ]
     },
     "execution_count": 143,
     "metadata": {},
     "output_type": "execute_result"
    }
   ],
   "source": [
    "data.dtypes[\"arrival_date_week_number\"]"
   ]
  },
  {
   "cell_type": "markdown",
   "id": "5c71e62b",
   "metadata": {},
   "source": [
    "Los valores de la variable está contenida en el rango [1, 53] de los números naturales, como acabamos de comprobar."
   ]
  },
  {
   "cell_type": "markdown",
   "id": "3301778b",
   "metadata": {},
   "source": [
    "### **stays_in_weekend_nights**"
   ]
  },
  {
   "cell_type": "code",
   "execution_count": 107,
   "id": "44ddd5ef",
   "metadata": {},
   "outputs": [
    {
     "data": {
      "text/html": [
       "<div>\n",
       "<style scoped>\n",
       "    .dataframe tbody tr th:only-of-type {\n",
       "        vertical-align: middle;\n",
       "    }\n",
       "\n",
       "    .dataframe tbody tr th {\n",
       "        vertical-align: top;\n",
       "    }\n",
       "\n",
       "    .dataframe thead th {\n",
       "        text-align: right;\n",
       "    }\n",
       "</style>\n",
       "<table border=\"1\" class=\"dataframe\">\n",
       "  <thead>\n",
       "    <tr style=\"text-align: right;\">\n",
       "      <th></th>\n",
       "      <th>count</th>\n",
       "      <th>mean</th>\n",
       "      <th>std</th>\n",
       "      <th>min</th>\n",
       "      <th>25%</th>\n",
       "      <th>50%</th>\n",
       "      <th>75%</th>\n",
       "      <th>max</th>\n",
       "    </tr>\n",
       "  </thead>\n",
       "  <tbody>\n",
       "    <tr>\n",
       "      <th>stays_in_weekend_nights</th>\n",
       "      <td>118897.0</td>\n",
       "      <td>0.928888</td>\n",
       "      <td>0.996224</td>\n",
       "      <td>0.0</td>\n",
       "      <td>0.0</td>\n",
       "      <td>1.0</td>\n",
       "      <td>2.0</td>\n",
       "      <td>16.0</td>\n",
       "    </tr>\n",
       "  </tbody>\n",
       "</table>\n",
       "</div>"
      ],
      "text/plain": [
       "                            count      mean       std  min  25%  50%  75%  \\\n",
       "stays_in_weekend_nights  118897.0  0.928888  0.996224  0.0  0.0  1.0  2.0   \n",
       "\n",
       "                          max  \n",
       "stays_in_weekend_nights  16.0  "
      ]
     },
     "execution_count": 107,
     "metadata": {},
     "output_type": "execute_result"
    }
   ],
   "source": [
    "pd.DataFrame(data[\"stays_in_weekend_nights\"].describe()).transpose()"
   ]
  },
  {
   "cell_type": "markdown",
   "id": "5a051172",
   "metadata": {},
   "source": [
    "### **stays_in_week_nights**"
   ]
  },
  {
   "cell_type": "code",
   "execution_count": 108,
   "id": "3c09c802",
   "metadata": {},
   "outputs": [
    {
     "data": {
      "text/html": [
       "<div>\n",
       "<style scoped>\n",
       "    .dataframe tbody tr th:only-of-type {\n",
       "        vertical-align: middle;\n",
       "    }\n",
       "\n",
       "    .dataframe tbody tr th {\n",
       "        vertical-align: top;\n",
       "    }\n",
       "\n",
       "    .dataframe thead th {\n",
       "        text-align: right;\n",
       "    }\n",
       "</style>\n",
       "<table border=\"1\" class=\"dataframe\">\n",
       "  <thead>\n",
       "    <tr style=\"text-align: right;\">\n",
       "      <th></th>\n",
       "      <th>count</th>\n",
       "      <th>mean</th>\n",
       "      <th>std</th>\n",
       "      <th>min</th>\n",
       "      <th>25%</th>\n",
       "      <th>50%</th>\n",
       "      <th>75%</th>\n",
       "      <th>max</th>\n",
       "    </tr>\n",
       "  </thead>\n",
       "  <tbody>\n",
       "    <tr>\n",
       "      <th>stays_in_week_nights</th>\n",
       "      <td>118897.0</td>\n",
       "      <td>2.502183</td>\n",
       "      <td>1.90018</td>\n",
       "      <td>0.0</td>\n",
       "      <td>1.0</td>\n",
       "      <td>2.0</td>\n",
       "      <td>3.0</td>\n",
       "      <td>41.0</td>\n",
       "    </tr>\n",
       "  </tbody>\n",
       "</table>\n",
       "</div>"
      ],
      "text/plain": [
       "                         count      mean      std  min  25%  50%  75%   max\n",
       "stays_in_week_nights  118897.0  2.502183  1.90018  0.0  1.0  2.0  3.0  41.0"
      ]
     },
     "execution_count": 108,
     "metadata": {},
     "output_type": "execute_result"
    }
   ],
   "source": [
    "pd.DataFrame(data[\"stays_in_week_nights\"].describe()).transpose()"
   ]
  },
  {
   "cell_type": "markdown",
   "id": "849c5429",
   "metadata": {},
   "source": [
    "### **adr**"
   ]
  },
  {
   "cell_type": "code",
   "execution_count": 109,
   "id": "bf0da270",
   "metadata": {},
   "outputs": [
    {
     "data": {
      "text/html": [
       "<div>\n",
       "<style scoped>\n",
       "    .dataframe tbody tr th:only-of-type {\n",
       "        vertical-align: middle;\n",
       "    }\n",
       "\n",
       "    .dataframe tbody tr th {\n",
       "        vertical-align: top;\n",
       "    }\n",
       "\n",
       "    .dataframe thead th {\n",
       "        text-align: right;\n",
       "    }\n",
       "</style>\n",
       "<table border=\"1\" class=\"dataframe\">\n",
       "  <thead>\n",
       "    <tr style=\"text-align: right;\">\n",
       "      <th></th>\n",
       "      <th>count</th>\n",
       "      <th>mean</th>\n",
       "      <th>std</th>\n",
       "      <th>min</th>\n",
       "      <th>25%</th>\n",
       "      <th>50%</th>\n",
       "      <th>75%</th>\n",
       "      <th>max</th>\n",
       "    </tr>\n",
       "  </thead>\n",
       "  <tbody>\n",
       "    <tr>\n",
       "      <th>adr</th>\n",
       "      <td>118897.0</td>\n",
       "      <td>102.001336</td>\n",
       "      <td>50.48609</td>\n",
       "      <td>-6.38</td>\n",
       "      <td>70.0</td>\n",
       "      <td>95.0</td>\n",
       "      <td>126.0</td>\n",
       "      <td>5400.0</td>\n",
       "    </tr>\n",
       "  </tbody>\n",
       "</table>\n",
       "</div>"
      ],
      "text/plain": [
       "        count        mean       std   min   25%   50%    75%     max\n",
       "adr  118897.0  102.001336  50.48609 -6.38  70.0  95.0  126.0  5400.0"
      ]
     },
     "execution_count": 109,
     "metadata": {},
     "output_type": "execute_result"
    }
   ],
   "source": [
    "pd.DataFrame(data[\"adr\"].describe()).transpose()"
   ]
  },
  {
   "cell_type": "markdown",
   "id": "096b43c3",
   "metadata": {},
   "source": [
    "# 4. Análisis de los datos"
   ]
  },
  {
   "cell_type": "markdown",
   "id": "906ef3f9",
   "metadata": {},
   "source": [
    "1. Selección de los grupos de datos que se quieren analizar/comparar (planificación de los análisis a aplicar).\n",
    "2. Comprobación de la normalidad y homogeneidad de la varianza.\n",
    "3. Aplicación de pruebas estadísticas para comparar los grupos de datos. En función de los datos y el objetivo del estudio, aplicar pruebas de contraste de hipótesis, correlaciones, regresiones, etc. Aplicar al menos tres métodos de análisis diferentes."
   ]
  },
  {
   "cell_type": "code",
   "execution_count": null,
   "id": "55176ad7",
   "metadata": {},
   "outputs": [],
   "source": []
  },
  {
   "cell_type": "markdown",
   "id": "7c4f5990",
   "metadata": {},
   "source": [
    "# 5. Visualización"
   ]
  },
  {
   "cell_type": "markdown",
   "id": "8d309b81",
   "metadata": {},
   "source": [
    "Representación de los resultados a partir de tablas y gráficas."
   ]
  },
  {
   "cell_type": "code",
   "execution_count": null,
   "id": "a3b6f8fa",
   "metadata": {},
   "outputs": [],
   "source": []
  },
  {
   "cell_type": "markdown",
   "id": "6ddfdb2d",
   "metadata": {},
   "source": [
    "# 6. Conclusiones"
   ]
  },
  {
   "cell_type": "markdown",
   "id": "86a524ba",
   "metadata": {},
   "source": [
    "Resolución del problema. A partir de los resultados obtenidos, ¿cuáles son las conclusiones? ¿Los resultados permiten responder al problema?"
   ]
  },
  {
   "cell_type": "code",
   "execution_count": null,
   "id": "67501a77",
   "metadata": {},
   "outputs": [],
   "source": []
  },
  {
   "cell_type": "markdown",
   "id": "2a7e461d",
   "metadata": {},
   "source": []
  },
  {
   "cell_type": "markdown",
   "id": "ead4c8e2",
   "metadata": {},
   "source": [
    "the idea is to find what impact the average daily hotel room price ,either the month of the year or the distribution channel, or how early someone books the room etc.."
   ]
  },
  {
   "cell_type": "code",
   "execution_count": 45,
   "id": "ca845e03",
   "metadata": {},
   "outputs": [
    {
     "data": {
      "text/plain": [
       "(119390, 32)"
      ]
     },
     "execution_count": 45,
     "metadata": {},
     "output_type": "execute_result"
    }
   ],
   "source": [
    "#El objetivo es saber que combinacion de \"lead_time\",\"market_Segment\" que se puede considerar canal de distribucion, \n",
    "#y mes / semana que resultaria en el mejor \"adr\" que es \"average daily rate\" \n",
    "# Lets read the Dataset\n",
    "data = pd.read_csv('hotel_bookings.csv')\n",
    "\n",
    "# lets check the shape of the dataset\n",
    "data.shape"
   ]
  },
  {
   "cell_type": "code",
   "execution_count": 46,
   "id": "73ceaedd",
   "metadata": {},
   "outputs": [
    {
     "data": {
      "text/html": [
       "<div>\n",
       "<style scoped>\n",
       "    .dataframe tbody tr th:only-of-type {\n",
       "        vertical-align: middle;\n",
       "    }\n",
       "\n",
       "    .dataframe tbody tr th {\n",
       "        vertical-align: top;\n",
       "    }\n",
       "\n",
       "    .dataframe thead th {\n",
       "        text-align: right;\n",
       "    }\n",
       "</style>\n",
       "<table border=\"1\" class=\"dataframe\">\n",
       "  <thead>\n",
       "    <tr style=\"text-align: right;\">\n",
       "      <th></th>\n",
       "      <th>hotel</th>\n",
       "      <th>is_canceled</th>\n",
       "      <th>lead_time</th>\n",
       "      <th>arrival_date_year</th>\n",
       "      <th>arrival_date_month</th>\n",
       "      <th>arrival_date_week_number</th>\n",
       "      <th>arrival_date_day_of_month</th>\n",
       "      <th>stays_in_weekend_nights</th>\n",
       "      <th>stays_in_week_nights</th>\n",
       "      <th>adults</th>\n",
       "      <th>...</th>\n",
       "      <th>deposit_type</th>\n",
       "      <th>agent</th>\n",
       "      <th>company</th>\n",
       "      <th>days_in_waiting_list</th>\n",
       "      <th>customer_type</th>\n",
       "      <th>adr</th>\n",
       "      <th>required_car_parking_spaces</th>\n",
       "      <th>total_of_special_requests</th>\n",
       "      <th>reservation_status</th>\n",
       "      <th>reservation_status_date</th>\n",
       "    </tr>\n",
       "  </thead>\n",
       "  <tbody>\n",
       "    <tr>\n",
       "      <th>0</th>\n",
       "      <td>Resort Hotel</td>\n",
       "      <td>0</td>\n",
       "      <td>342</td>\n",
       "      <td>2015</td>\n",
       "      <td>July</td>\n",
       "      <td>27</td>\n",
       "      <td>1</td>\n",
       "      <td>0</td>\n",
       "      <td>0</td>\n",
       "      <td>2</td>\n",
       "      <td>...</td>\n",
       "      <td>No Deposit</td>\n",
       "      <td>NaN</td>\n",
       "      <td>NaN</td>\n",
       "      <td>0</td>\n",
       "      <td>Transient</td>\n",
       "      <td>0.0</td>\n",
       "      <td>0</td>\n",
       "      <td>0</td>\n",
       "      <td>Check-Out</td>\n",
       "      <td>2015-07-01</td>\n",
       "    </tr>\n",
       "    <tr>\n",
       "      <th>1</th>\n",
       "      <td>Resort Hotel</td>\n",
       "      <td>0</td>\n",
       "      <td>737</td>\n",
       "      <td>2015</td>\n",
       "      <td>July</td>\n",
       "      <td>27</td>\n",
       "      <td>1</td>\n",
       "      <td>0</td>\n",
       "      <td>0</td>\n",
       "      <td>2</td>\n",
       "      <td>...</td>\n",
       "      <td>No Deposit</td>\n",
       "      <td>NaN</td>\n",
       "      <td>NaN</td>\n",
       "      <td>0</td>\n",
       "      <td>Transient</td>\n",
       "      <td>0.0</td>\n",
       "      <td>0</td>\n",
       "      <td>0</td>\n",
       "      <td>Check-Out</td>\n",
       "      <td>2015-07-01</td>\n",
       "    </tr>\n",
       "    <tr>\n",
       "      <th>2</th>\n",
       "      <td>Resort Hotel</td>\n",
       "      <td>0</td>\n",
       "      <td>7</td>\n",
       "      <td>2015</td>\n",
       "      <td>July</td>\n",
       "      <td>27</td>\n",
       "      <td>1</td>\n",
       "      <td>0</td>\n",
       "      <td>1</td>\n",
       "      <td>1</td>\n",
       "      <td>...</td>\n",
       "      <td>No Deposit</td>\n",
       "      <td>NaN</td>\n",
       "      <td>NaN</td>\n",
       "      <td>0</td>\n",
       "      <td>Transient</td>\n",
       "      <td>75.0</td>\n",
       "      <td>0</td>\n",
       "      <td>0</td>\n",
       "      <td>Check-Out</td>\n",
       "      <td>2015-07-02</td>\n",
       "    </tr>\n",
       "    <tr>\n",
       "      <th>3</th>\n",
       "      <td>Resort Hotel</td>\n",
       "      <td>0</td>\n",
       "      <td>13</td>\n",
       "      <td>2015</td>\n",
       "      <td>July</td>\n",
       "      <td>27</td>\n",
       "      <td>1</td>\n",
       "      <td>0</td>\n",
       "      <td>1</td>\n",
       "      <td>1</td>\n",
       "      <td>...</td>\n",
       "      <td>No Deposit</td>\n",
       "      <td>304.0</td>\n",
       "      <td>NaN</td>\n",
       "      <td>0</td>\n",
       "      <td>Transient</td>\n",
       "      <td>75.0</td>\n",
       "      <td>0</td>\n",
       "      <td>0</td>\n",
       "      <td>Check-Out</td>\n",
       "      <td>2015-07-02</td>\n",
       "    </tr>\n",
       "    <tr>\n",
       "      <th>4</th>\n",
       "      <td>Resort Hotel</td>\n",
       "      <td>0</td>\n",
       "      <td>14</td>\n",
       "      <td>2015</td>\n",
       "      <td>July</td>\n",
       "      <td>27</td>\n",
       "      <td>1</td>\n",
       "      <td>0</td>\n",
       "      <td>2</td>\n",
       "      <td>2</td>\n",
       "      <td>...</td>\n",
       "      <td>No Deposit</td>\n",
       "      <td>240.0</td>\n",
       "      <td>NaN</td>\n",
       "      <td>0</td>\n",
       "      <td>Transient</td>\n",
       "      <td>98.0</td>\n",
       "      <td>0</td>\n",
       "      <td>1</td>\n",
       "      <td>Check-Out</td>\n",
       "      <td>2015-07-03</td>\n",
       "    </tr>\n",
       "  </tbody>\n",
       "</table>\n",
       "<p>5 rows × 32 columns</p>\n",
       "</div>"
      ],
      "text/plain": [
       "          hotel  is_canceled  lead_time  arrival_date_year arrival_date_month  \\\n",
       "0  Resort Hotel            0        342               2015               July   \n",
       "1  Resort Hotel            0        737               2015               July   \n",
       "2  Resort Hotel            0          7               2015               July   \n",
       "3  Resort Hotel            0         13               2015               July   \n",
       "4  Resort Hotel            0         14               2015               July   \n",
       "\n",
       "   arrival_date_week_number  arrival_date_day_of_month  \\\n",
       "0                        27                          1   \n",
       "1                        27                          1   \n",
       "2                        27                          1   \n",
       "3                        27                          1   \n",
       "4                        27                          1   \n",
       "\n",
       "   stays_in_weekend_nights  stays_in_week_nights  adults  ...  deposit_type  \\\n",
       "0                        0                     0       2  ...    No Deposit   \n",
       "1                        0                     0       2  ...    No Deposit   \n",
       "2                        0                     1       1  ...    No Deposit   \n",
       "3                        0                     1       1  ...    No Deposit   \n",
       "4                        0                     2       2  ...    No Deposit   \n",
       "\n",
       "   agent company days_in_waiting_list customer_type   adr  \\\n",
       "0    NaN     NaN                    0     Transient   0.0   \n",
       "1    NaN     NaN                    0     Transient   0.0   \n",
       "2    NaN     NaN                    0     Transient  75.0   \n",
       "3  304.0     NaN                    0     Transient  75.0   \n",
       "4  240.0     NaN                    0     Transient  98.0   \n",
       "\n",
       "   required_car_parking_spaces  total_of_special_requests  reservation_status  \\\n",
       "0                            0                          0           Check-Out   \n",
       "1                            0                          0           Check-Out   \n",
       "2                            0                          0           Check-Out   \n",
       "3                            0                          0           Check-Out   \n",
       "4                            0                          1           Check-Out   \n",
       "\n",
       "  reservation_status_date  \n",
       "0              2015-07-01  \n",
       "1              2015-07-01  \n",
       "2              2015-07-02  \n",
       "3              2015-07-02  \n",
       "4              2015-07-03  \n",
       "\n",
       "[5 rows x 32 columns]"
      ]
     },
     "execution_count": 46,
     "metadata": {},
     "output_type": "execute_result"
    }
   ],
   "source": [
    "data.head()"
   ]
  },
  {
   "cell_type": "code",
   "execution_count": 47,
   "id": "7bfffd18",
   "metadata": {
    "scrolled": true
   },
   "outputs": [
    {
     "data": {
      "text/plain": [
       "Index(['hotel', 'is_canceled', 'lead_time', 'arrival_date_year',\n",
       "       'arrival_date_month', 'arrival_date_week_number',\n",
       "       'arrival_date_day_of_month', 'stays_in_weekend_nights',\n",
       "       'stays_in_week_nights', 'adults', 'children', 'babies', 'meal',\n",
       "       'country', 'market_segment', 'distribution_channel',\n",
       "       'is_repeated_guest', 'previous_cancellations',\n",
       "       'previous_bookings_not_canceled', 'reserved_room_type',\n",
       "       'assigned_room_type', 'booking_changes', 'deposit_type', 'agent',\n",
       "       'company', 'days_in_waiting_list', 'customer_type', 'adr',\n",
       "       'required_car_parking_spaces', 'total_of_special_requests',\n",
       "       'reservation_status', 'reservation_status_date'],\n",
       "      dtype='object')"
      ]
     },
     "execution_count": 47,
     "metadata": {},
     "output_type": "execute_result"
    }
   ],
   "source": [
    "data.columns"
   ]
  },
  {
   "cell_type": "code",
   "execution_count": 48,
   "id": "b93be07e",
   "metadata": {},
   "outputs": [
    {
     "data": {
      "text/html": [
       "<div>\n",
       "<style scoped>\n",
       "    .dataframe tbody tr th:only-of-type {\n",
       "        vertical-align: middle;\n",
       "    }\n",
       "\n",
       "    .dataframe tbody tr th {\n",
       "        vertical-align: top;\n",
       "    }\n",
       "\n",
       "    .dataframe thead th {\n",
       "        text-align: right;\n",
       "    }\n",
       "</style>\n",
       "<table border=\"1\" class=\"dataframe\">\n",
       "  <thead>\n",
       "    <tr style=\"text-align: right;\">\n",
       "      <th></th>\n",
       "      <th>hotel</th>\n",
       "      <th>lead_time</th>\n",
       "      <th>arrival_date_year</th>\n",
       "      <th>arrival_date_month</th>\n",
       "      <th>arrival_date_week_number</th>\n",
       "      <th>stays_in_weekend_nights</th>\n",
       "      <th>stays_in_week_nights</th>\n",
       "      <th>country</th>\n",
       "      <th>market_segment</th>\n",
       "      <th>adr</th>\n",
       "    </tr>\n",
       "  </thead>\n",
       "  <tbody>\n",
       "    <tr>\n",
       "      <th>0</th>\n",
       "      <td>Resort Hotel</td>\n",
       "      <td>342</td>\n",
       "      <td>2015</td>\n",
       "      <td>July</td>\n",
       "      <td>27</td>\n",
       "      <td>0</td>\n",
       "      <td>0</td>\n",
       "      <td>PRT</td>\n",
       "      <td>Direct</td>\n",
       "      <td>0.0</td>\n",
       "    </tr>\n",
       "    <tr>\n",
       "      <th>1</th>\n",
       "      <td>Resort Hotel</td>\n",
       "      <td>737</td>\n",
       "      <td>2015</td>\n",
       "      <td>July</td>\n",
       "      <td>27</td>\n",
       "      <td>0</td>\n",
       "      <td>0</td>\n",
       "      <td>PRT</td>\n",
       "      <td>Direct</td>\n",
       "      <td>0.0</td>\n",
       "    </tr>\n",
       "    <tr>\n",
       "      <th>2</th>\n",
       "      <td>Resort Hotel</td>\n",
       "      <td>7</td>\n",
       "      <td>2015</td>\n",
       "      <td>July</td>\n",
       "      <td>27</td>\n",
       "      <td>0</td>\n",
       "      <td>1</td>\n",
       "      <td>GBR</td>\n",
       "      <td>Direct</td>\n",
       "      <td>75.0</td>\n",
       "    </tr>\n",
       "    <tr>\n",
       "      <th>3</th>\n",
       "      <td>Resort Hotel</td>\n",
       "      <td>13</td>\n",
       "      <td>2015</td>\n",
       "      <td>July</td>\n",
       "      <td>27</td>\n",
       "      <td>0</td>\n",
       "      <td>1</td>\n",
       "      <td>GBR</td>\n",
       "      <td>Corporate</td>\n",
       "      <td>75.0</td>\n",
       "    </tr>\n",
       "    <tr>\n",
       "      <th>4</th>\n",
       "      <td>Resort Hotel</td>\n",
       "      <td>14</td>\n",
       "      <td>2015</td>\n",
       "      <td>July</td>\n",
       "      <td>27</td>\n",
       "      <td>0</td>\n",
       "      <td>2</td>\n",
       "      <td>GBR</td>\n",
       "      <td>Online TA</td>\n",
       "      <td>98.0</td>\n",
       "    </tr>\n",
       "  </tbody>\n",
       "</table>\n",
       "</div>"
      ],
      "text/plain": [
       "          hotel  lead_time  arrival_date_year arrival_date_month  \\\n",
       "0  Resort Hotel        342               2015               July   \n",
       "1  Resort Hotel        737               2015               July   \n",
       "2  Resort Hotel          7               2015               July   \n",
       "3  Resort Hotel         13               2015               July   \n",
       "4  Resort Hotel         14               2015               July   \n",
       "\n",
       "   arrival_date_week_number  stays_in_weekend_nights  stays_in_week_nights  \\\n",
       "0                        27                        0                     0   \n",
       "1                        27                        0                     0   \n",
       "2                        27                        0                     1   \n",
       "3                        27                        0                     1   \n",
       "4                        27                        0                     2   \n",
       "\n",
       "  country market_segment   adr  \n",
       "0     PRT         Direct   0.0  \n",
       "1     PRT         Direct   0.0  \n",
       "2     GBR         Direct  75.0  \n",
       "3     GBR      Corporate  75.0  \n",
       "4     GBR      Online TA  98.0  "
      ]
     },
     "execution_count": 48,
     "metadata": {},
     "output_type": "execute_result"
    }
   ],
   "source": [
    "# quitar las columnas que no son relevantes\n",
    "data = data.drop(['is_canceled',\n",
    "       'arrival_date_day_of_month', 'adults', 'children', 'babies', 'meal',\n",
    "       'is_repeated_guest', 'previous_cancellations',\n",
    "       'previous_bookings_not_canceled', 'reserved_room_type',\n",
    "       'assigned_room_type', 'booking_changes', 'deposit_type', 'agent',\n",
    "       'company', 'customer_type',\n",
    "       'required_car_parking_spaces', 'total_of_special_requests',\n",
    "       'reservation_status', 'reservation_status_date','distribution_channel','days_in_waiting_list'], axis = 1)\n",
    "\n",
    "# lets check the head of the Final Dataset\n",
    "data.head()"
   ]
  },
  {
   "cell_type": "code",
   "execution_count": 49,
   "id": "c3f58455",
   "metadata": {},
   "outputs": [
    {
     "name": "stdout",
     "output_type": "stream",
     "text": [
      "hotel                        object\n",
      "lead_time                     int64\n",
      "arrival_date_year             int64\n",
      "arrival_date_month           object\n",
      "arrival_date_week_number      int64\n",
      "stays_in_weekend_nights       int64\n",
      "stays_in_week_nights          int64\n",
      "country                      object\n",
      "market_segment               object\n",
      "adr                         float64\n",
      "dtype: object\n"
     ]
    }
   ],
   "source": [
    "print(data.dtypes)"
   ]
  },
  {
   "cell_type": "code",
   "execution_count": null,
   "id": "e5ff64e0",
   "metadata": {},
   "outputs": [],
   "source": [
    "#aqui empiezo a explorar los valores de las columnas que me interesa y determinar si hay valores que tengo que limipar"
   ]
  },
  {
   "cell_type": "code",
   "execution_count": 51,
   "id": "fb8d0e8a",
   "metadata": {},
   "outputs": [
    {
     "data": {
      "text/plain": [
       "hotel                         0\n",
       "lead_time                     0\n",
       "arrival_date_year             0\n",
       "arrival_date_month            0\n",
       "arrival_date_week_number      0\n",
       "stays_in_weekend_nights       0\n",
       "stays_in_week_nights          0\n",
       "country                     488\n",
       "market_segment                0\n",
       "adr                           0\n",
       "dtype: int64"
      ]
     },
     "execution_count": 51,
     "metadata": {},
     "output_type": "execute_result"
    }
   ],
   "source": [
    "data.isnull().sum()"
   ]
  },
  {
   "cell_type": "code",
   "execution_count": 5,
   "id": "2493ddf6",
   "metadata": {},
   "outputs": [
    {
     "data": {
      "text/plain": [
       "Online TA        56477\n",
       "Offline TA/TO    24219\n",
       "Groups           19811\n",
       "Direct           12606\n",
       "Corporate         5295\n",
       "Complementary      743\n",
       "Aviation           237\n",
       "Undefined            2\n",
       "Name: market_segment, dtype: int64"
      ]
     },
     "execution_count": 5,
     "metadata": {},
     "output_type": "execute_result"
    }
   ],
   "source": [
    "data['market_segment'].value_counts()"
   ]
  },
  {
   "cell_type": "code",
   "execution_count": 50,
   "id": "559d9a58",
   "metadata": {},
   "outputs": [
    {
     "data": {
      "text/plain": [
       "(119388, 10)"
      ]
     },
     "execution_count": 50,
     "metadata": {},
     "output_type": "execute_result"
    }
   ],
   "source": [
    "#tenemos dos filas con el market segment Undefined, lo kejore sera quitar estos registros porque son pocos\n",
    "data.drop(data[data['market_segment']== 'Undefined'].index, inplace=True)\n",
    "data.shape"
   ]
  },
  {
   "cell_type": "code",
   "execution_count": 15,
   "id": "8f9dca19",
   "metadata": {},
   "outputs": [
    {
     "data": {
      "text/plain": [
       "2016    56707\n",
       "2017    40687\n",
       "2015    21996\n",
       "Name: arrival_date_year, dtype: int64"
      ]
     },
     "execution_count": 15,
     "metadata": {},
     "output_type": "execute_result"
    }
   ],
   "source": [
    "data['arrival_date_year'].value_counts()"
   ]
  },
  {
   "cell_type": "code",
   "execution_count": 52,
   "id": "fcf5bf74",
   "metadata": {},
   "outputs": [
    {
     "data": {
      "text/plain": [
       "August       13875\n",
       "July         12661\n",
       "May          11791\n",
       "October      11160\n",
       "April        11089\n",
       "June         10939\n",
       "September    10508\n",
       "March         9794\n",
       "February      8068\n",
       "November      6794\n",
       "December      6780\n",
       "January       5929\n",
       "Name: arrival_date_month, dtype: int64"
      ]
     },
     "execution_count": 52,
     "metadata": {},
     "output_type": "execute_result"
    }
   ],
   "source": [
    "data['arrival_date_month'].value_counts()"
   ]
  },
  {
   "cell_type": "code",
   "execution_count": 53,
   "id": "ee3b4175",
   "metadata": {},
   "outputs": [
    {
     "data": {
      "text/plain": [
       "33    3580\n",
       "30    3087\n",
       "32    3043\n",
       "34    3040\n",
       "18    2926\n",
       "21    2854\n",
       "28    2853\n",
       "17    2805\n",
       "20    2785\n",
       "29    2763\n",
       "42    2756\n",
       "31    2741\n",
       "41    2699\n",
       "15    2689\n",
       "27    2664\n",
       "25    2663\n",
       "38    2661\n",
       "23    2621\n",
       "35    2593\n",
       "39    2581\n",
       "22    2546\n",
       "24    2498\n",
       "13    2416\n",
       "16    2405\n",
       "19    2402\n",
       "40    2397\n",
       "26    2391\n",
       "43    2352\n",
       "44    2272\n",
       "14    2264\n",
       "37    2229\n",
       "8     2216\n",
       "36    2167\n",
       "10    2149\n",
       "9     2117\n",
       "7     2109\n",
       "12    2083\n",
       "11    2070\n",
       "45    1941\n",
       "53    1816\n",
       "49    1782\n",
       "47    1685\n",
       "46    1574\n",
       "6     1508\n",
       "50    1505\n",
       "48    1504\n",
       "4     1487\n",
       "5     1387\n",
       "3     1319\n",
       "2     1218\n",
       "52    1195\n",
       "1     1047\n",
       "51     933\n",
       "Name: arrival_date_week_number, dtype: int64"
      ]
     },
     "execution_count": 53,
     "metadata": {},
     "output_type": "execute_result"
    }
   ],
   "source": [
    "data['arrival_date_week_number'].value_counts()"
   ]
  },
  {
   "cell_type": "code",
   "execution_count": 54,
   "id": "ead308ad",
   "metadata": {},
   "outputs": [
    {
     "data": {
      "text/html": [
       "<div>\n",
       "<style scoped>\n",
       "    .dataframe tbody tr th:only-of-type {\n",
       "        vertical-align: middle;\n",
       "    }\n",
       "\n",
       "    .dataframe tbody tr th {\n",
       "        vertical-align: top;\n",
       "    }\n",
       "\n",
       "    .dataframe thead th {\n",
       "        text-align: right;\n",
       "    }\n",
       "</style>\n",
       "<table border=\"1\" class=\"dataframe\">\n",
       "  <thead>\n",
       "    <tr style=\"text-align: right;\">\n",
       "      <th></th>\n",
       "      <th>hotel</th>\n",
       "      <th>lead_time</th>\n",
       "      <th>arrival_date_year</th>\n",
       "      <th>arrival_date_month</th>\n",
       "      <th>arrival_date_week_number</th>\n",
       "      <th>stays_in_weekend_nights</th>\n",
       "      <th>stays_in_week_nights</th>\n",
       "      <th>country</th>\n",
       "      <th>market_segment</th>\n",
       "      <th>adr</th>\n",
       "      <th>total_stay</th>\n",
       "    </tr>\n",
       "  </thead>\n",
       "  <tbody>\n",
       "    <tr>\n",
       "      <th>0</th>\n",
       "      <td>Resort Hotel</td>\n",
       "      <td>342</td>\n",
       "      <td>2015</td>\n",
       "      <td>July</td>\n",
       "      <td>27</td>\n",
       "      <td>0</td>\n",
       "      <td>0</td>\n",
       "      <td>PRT</td>\n",
       "      <td>Direct</td>\n",
       "      <td>0.0</td>\n",
       "      <td>0</td>\n",
       "    </tr>\n",
       "    <tr>\n",
       "      <th>1</th>\n",
       "      <td>Resort Hotel</td>\n",
       "      <td>737</td>\n",
       "      <td>2015</td>\n",
       "      <td>July</td>\n",
       "      <td>27</td>\n",
       "      <td>0</td>\n",
       "      <td>0</td>\n",
       "      <td>PRT</td>\n",
       "      <td>Direct</td>\n",
       "      <td>0.0</td>\n",
       "      <td>0</td>\n",
       "    </tr>\n",
       "    <tr>\n",
       "      <th>2</th>\n",
       "      <td>Resort Hotel</td>\n",
       "      <td>7</td>\n",
       "      <td>2015</td>\n",
       "      <td>July</td>\n",
       "      <td>27</td>\n",
       "      <td>0</td>\n",
       "      <td>1</td>\n",
       "      <td>GBR</td>\n",
       "      <td>Direct</td>\n",
       "      <td>75.0</td>\n",
       "      <td>1</td>\n",
       "    </tr>\n",
       "    <tr>\n",
       "      <th>3</th>\n",
       "      <td>Resort Hotel</td>\n",
       "      <td>13</td>\n",
       "      <td>2015</td>\n",
       "      <td>July</td>\n",
       "      <td>27</td>\n",
       "      <td>0</td>\n",
       "      <td>1</td>\n",
       "      <td>GBR</td>\n",
       "      <td>Corporate</td>\n",
       "      <td>75.0</td>\n",
       "      <td>1</td>\n",
       "    </tr>\n",
       "    <tr>\n",
       "      <th>4</th>\n",
       "      <td>Resort Hotel</td>\n",
       "      <td>14</td>\n",
       "      <td>2015</td>\n",
       "      <td>July</td>\n",
       "      <td>27</td>\n",
       "      <td>0</td>\n",
       "      <td>2</td>\n",
       "      <td>GBR</td>\n",
       "      <td>Online TA</td>\n",
       "      <td>98.0</td>\n",
       "      <td>2</td>\n",
       "    </tr>\n",
       "  </tbody>\n",
       "</table>\n",
       "</div>"
      ],
      "text/plain": [
       "          hotel  lead_time  arrival_date_year arrival_date_month  \\\n",
       "0  Resort Hotel        342               2015               July   \n",
       "1  Resort Hotel        737               2015               July   \n",
       "2  Resort Hotel          7               2015               July   \n",
       "3  Resort Hotel         13               2015               July   \n",
       "4  Resort Hotel         14               2015               July   \n",
       "\n",
       "   arrival_date_week_number  stays_in_weekend_nights  stays_in_week_nights  \\\n",
       "0                        27                        0                     0   \n",
       "1                        27                        0                     0   \n",
       "2                        27                        0                     1   \n",
       "3                        27                        0                     1   \n",
       "4                        27                        0                     2   \n",
       "\n",
       "  country market_segment   adr  total_stay  \n",
       "0     PRT         Direct   0.0           0  \n",
       "1     PRT         Direct   0.0           0  \n",
       "2     GBR         Direct  75.0           1  \n",
       "3     GBR      Corporate  75.0           1  \n",
       "4     GBR      Online TA  98.0           2  "
      ]
     },
     "execution_count": 54,
     "metadata": {},
     "output_type": "execute_result"
    }
   ],
   "source": [
    "#derivamos una columna nueva donde se calcula la estancia total\n",
    "data[\"total_stay\"] = data[\"stays_in_week_nights\"] + data[\"stays_in_weekend_nights\"]\n",
    "data.head()"
   ]
  },
  {
   "cell_type": "code",
   "execution_count": 55,
   "id": "356980de",
   "metadata": {},
   "outputs": [
    {
     "data": {
      "text/plain": [
       "715"
      ]
     },
     "execution_count": 55,
     "metadata": {},
     "output_type": "execute_result"
    }
   ],
   "source": [
    "#inspeccionamos si hay valores 0 en el total de la estancia, estos valores si considereran error y hay que tratarlas\n",
    "len(data[data[\"total_stay\"] == 0].index)"
   ]
  },
  {
   "cell_type": "code",
   "execution_count": 56,
   "id": "ab14f7a7",
   "metadata": {},
   "outputs": [
    {
     "data": {
      "text/html": [
       "<div>\n",
       "<style scoped>\n",
       "    .dataframe tbody tr th:only-of-type {\n",
       "        vertical-align: middle;\n",
       "    }\n",
       "\n",
       "    .dataframe tbody tr th {\n",
       "        vertical-align: top;\n",
       "    }\n",
       "\n",
       "    .dataframe thead th {\n",
       "        text-align: right;\n",
       "    }\n",
       "</style>\n",
       "<table border=\"1\" class=\"dataframe\">\n",
       "  <thead>\n",
       "    <tr style=\"text-align: right;\">\n",
       "      <th></th>\n",
       "      <th>hotel</th>\n",
       "      <th>lead_time</th>\n",
       "      <th>arrival_date_year</th>\n",
       "      <th>arrival_date_month</th>\n",
       "      <th>arrival_date_week_number</th>\n",
       "      <th>stays_in_weekend_nights</th>\n",
       "      <th>stays_in_week_nights</th>\n",
       "      <th>country</th>\n",
       "      <th>market_segment</th>\n",
       "      <th>adr</th>\n",
       "      <th>total_stay</th>\n",
       "    </tr>\n",
       "  </thead>\n",
       "  <tbody>\n",
       "    <tr>\n",
       "      <th>0</th>\n",
       "      <td>Resort Hotel</td>\n",
       "      <td>342</td>\n",
       "      <td>2015</td>\n",
       "      <td>July</td>\n",
       "      <td>27</td>\n",
       "      <td>0</td>\n",
       "      <td>0</td>\n",
       "      <td>PRT</td>\n",
       "      <td>Direct</td>\n",
       "      <td>0.0</td>\n",
       "      <td>3</td>\n",
       "    </tr>\n",
       "    <tr>\n",
       "      <th>1</th>\n",
       "      <td>Resort Hotel</td>\n",
       "      <td>737</td>\n",
       "      <td>2015</td>\n",
       "      <td>July</td>\n",
       "      <td>27</td>\n",
       "      <td>0</td>\n",
       "      <td>0</td>\n",
       "      <td>PRT</td>\n",
       "      <td>Direct</td>\n",
       "      <td>0.0</td>\n",
       "      <td>3</td>\n",
       "    </tr>\n",
       "    <tr>\n",
       "      <th>2</th>\n",
       "      <td>Resort Hotel</td>\n",
       "      <td>7</td>\n",
       "      <td>2015</td>\n",
       "      <td>July</td>\n",
       "      <td>27</td>\n",
       "      <td>0</td>\n",
       "      <td>1</td>\n",
       "      <td>GBR</td>\n",
       "      <td>Direct</td>\n",
       "      <td>75.0</td>\n",
       "      <td>1</td>\n",
       "    </tr>\n",
       "    <tr>\n",
       "      <th>3</th>\n",
       "      <td>Resort Hotel</td>\n",
       "      <td>13</td>\n",
       "      <td>2015</td>\n",
       "      <td>July</td>\n",
       "      <td>27</td>\n",
       "      <td>0</td>\n",
       "      <td>1</td>\n",
       "      <td>GBR</td>\n",
       "      <td>Corporate</td>\n",
       "      <td>75.0</td>\n",
       "      <td>1</td>\n",
       "    </tr>\n",
       "    <tr>\n",
       "      <th>4</th>\n",
       "      <td>Resort Hotel</td>\n",
       "      <td>14</td>\n",
       "      <td>2015</td>\n",
       "      <td>July</td>\n",
       "      <td>27</td>\n",
       "      <td>0</td>\n",
       "      <td>2</td>\n",
       "      <td>GBR</td>\n",
       "      <td>Online TA</td>\n",
       "      <td>98.0</td>\n",
       "      <td>2</td>\n",
       "    </tr>\n",
       "  </tbody>\n",
       "</table>\n",
       "</div>"
      ],
      "text/plain": [
       "          hotel  lead_time  arrival_date_year arrival_date_month  \\\n",
       "0  Resort Hotel        342               2015               July   \n",
       "1  Resort Hotel        737               2015               July   \n",
       "2  Resort Hotel          7               2015               July   \n",
       "3  Resort Hotel         13               2015               July   \n",
       "4  Resort Hotel         14               2015               July   \n",
       "\n",
       "   arrival_date_week_number  stays_in_weekend_nights  stays_in_week_nights  \\\n",
       "0                        27                        0                     0   \n",
       "1                        27                        0                     0   \n",
       "2                        27                        0                     1   \n",
       "3                        27                        0                     1   \n",
       "4                        27                        0                     2   \n",
       "\n",
       "  country market_segment   adr  total_stay  \n",
       "0     PRT         Direct   0.0           3  \n",
       "1     PRT         Direct   0.0           3  \n",
       "2     GBR         Direct  75.0           1  \n",
       "3     GBR      Corporate  75.0           1  \n",
       "4     GBR      Online TA  98.0           2  "
      ]
     },
     "execution_count": 56,
     "metadata": {},
     "output_type": "execute_result"
    }
   ],
   "source": [
    "#para corregir estos registros vamos a hacer replace con el mean\n",
    "data['total_stay']=data['total_stay'].replace(0,int(data['total_stay'].mean()))\n",
    "data.head()"
   ]
  },
  {
   "cell_type": "code",
   "execution_count": 62,
   "id": "9ee0a94f",
   "metadata": {},
   "outputs": [
    {
     "name": "stderr",
     "output_type": "stream",
     "text": [
      "C:\\Users\\engin\\anaconda3\\envs\\practica2\\lib\\site-packages\\seaborn\\_decorators.py:36: FutureWarning: Pass the following variable as a keyword arg: x. From version 0.12, the only valid positional argument will be `data`, and passing other arguments without an explicit keyword will result in an error or misinterpretation.\n",
      "  warnings.warn(\n",
      "C:\\Users\\engin\\anaconda3\\envs\\practica2\\lib\\site-packages\\seaborn\\_decorators.py:36: FutureWarning: Pass the following variable as a keyword arg: x. From version 0.12, the only valid positional argument will be `data`, and passing other arguments without an explicit keyword will result in an error or misinterpretation.\n",
      "  warnings.warn(\n"
     ]
    },
    {
     "data": {
      "image/png": "[encoded data removed]",
      "text/plain": [
       "<Figure size 1296x216 with 2 Axes>"
      ]
     },
     "metadata": {},
     "output_type": "display_data"
    }
   ],
   "source": [
    "#exploramos si hay outliers\n",
    "plt.rcParams['figure.figsize'] = (18, 3)\n",
    "plt.style.use('fivethirtyeight')\n",
    "\n",
    "plt.subplot(1, 3, 1)\n",
    "sns.boxplot(data['adr'])\n",
    "\n",
    "plt.subplot(1, 3, 2)\n",
    "sns.boxplot(data['total_stay'])\n",
    "\n",
    "plt.show()"
   ]
  },
  {
   "cell_type": "code",
   "execution_count": 63,
   "id": "7c266c47",
   "metadata": {},
   "outputs": [],
   "source": [
    "#droping the outlier in adr and total stay column\n",
    "data = data[data['adr'] < 1000]\n",
    "data = data[data['total_stay'] < 10]"
   ]
  },
  {
   "cell_type": "code",
   "execution_count": 64,
   "id": "f2259a63",
   "metadata": {},
   "outputs": [
    {
     "name": "stderr",
     "output_type": "stream",
     "text": [
      "C:\\Users\\engin\\anaconda3\\envs\\practica2\\lib\\site-packages\\seaborn\\_decorators.py:36: FutureWarning: Pass the following variable as a keyword arg: x. From version 0.12, the only valid positional argument will be `data`, and passing other arguments without an explicit keyword will result in an error or misinterpretation.\n",
      "  warnings.warn(\n",
      "C:\\Users\\engin\\anaconda3\\envs\\practica2\\lib\\site-packages\\seaborn\\_decorators.py:36: FutureWarning: Pass the following variable as a keyword arg: x. From version 0.12, the only valid positional argument will be `data`, and passing other arguments without an explicit keyword will result in an error or misinterpretation.\n",
      "  warnings.warn(\n"
     ]
    },
    {
     "data": {
      "image/png": "[encoded data removed]",
      "text/plain": [
       "<Figure size 1296x216 with 2 Axes>"
      ]
     },
     "metadata": {},
     "output_type": "display_data"
    }
   ],
   "source": [
    "#exploramos si hay outliers\n",
    "plt.rcParams['figure.figsize'] = (18, 3)\n",
    "plt.style.use('fivethirtyeight')\n",
    "\n",
    "plt.subplot(1, 3, 1)\n",
    "sns.boxplot(data['adr'])\n",
    "\n",
    "plt.subplot(1, 3, 2)\n",
    "sns.boxplot(data['total_stay'])\n",
    "\n",
    "plt.show()"
   ]
  },
  {
   "cell_type": "code",
   "execution_count": 65,
   "id": "b6ffe9cd",
   "metadata": {},
   "outputs": [
    {
     "data": {
      "text/plain": [
       "<AxesSubplot:xlabel='total_stay', ylabel='adr'>"
      ]
     },
     "execution_count": 65,
     "metadata": {},
     "output_type": "execute_result"
    },
    {
     "data": {
      "image/png": "[encoded data removed]",
      "text/plain": [
       "<Figure size 1296x216 with 1 Axes>"
      ]
     },
     "metadata": {},
     "output_type": "display_data"
    }
   ],
   "source": [
    "sns.scatterplot(data=data,x='total_stay',y='adr')"
   ]
  },
  {
   "cell_type": "code",
   "execution_count": 43,
   "id": "058aee57",
   "metadata": {},
   "outputs": [
    {
     "data": {
      "text/plain": [
       "<AxesSubplot:xlabel='adr', ylabel='lead_time'>"
      ]
     },
     "execution_count": 43,
     "metadata": {},
     "output_type": "execute_result"
    },
    {
     "data": {
      "image/png": "[encoded data removed]",
      "text/plain": [
       "<Figure size 1440x288 with 1 Axes>"
      ]
     },
     "metadata": {},
     "output_type": "display_data"
    }
   ],
   "source": [
    "sns.scatterplot(data=data,x='adr',y='lead_time') #parece que no hay correlacion "
   ]
  },
  {
   "cell_type": "code",
   "execution_count": 66,
   "id": "17606b80",
   "metadata": {
    "scrolled": true
   },
   "outputs": [
    {
     "data": {
      "text/plain": [
       "<Figure size 1440x1440 with 0 Axes>"
      ]
     },
     "metadata": {},
     "output_type": "display_data"
    },
    {
     "data": {
      "image/png": "[encoded data removed]",
      "text/plain": [
       "<Figure size 523.025x360 with 1 Axes>"
      ]
     },
     "metadata": {},
     "output_type": "display_data"
    }
   ],
   "source": [
    "plt.gcf().set_size_inches(20, 20)\n",
    "sns.displot(data, x=\"adr\", hue=\"market_segment\", kde=True)\n",
    "plt.title('Distribution of room daily rate per market segment')\n",
    "plt.show()"
   ]
  },
  {
   "cell_type": "code",
   "execution_count": 44,
   "id": "f44f2cb7",
   "metadata": {},
   "outputs": [
    {
     "data": {
      "text/plain": [
       "<AxesSubplot:xlabel='arrival_date_week_number', ylabel='mean_adr'>"
      ]
     },
     "execution_count": 44,
     "metadata": {},
     "output_type": "execute_result"
    },
    {
     "data": {
      "image/png": "[encoded data removed]",
      "text/plain": [
       "<Figure size 1440x1440 with 1 Axes>"
      ]
     },
     "metadata": {
      "needs_background": "light"
     },
     "output_type": "display_data"
    }
   ],
   "source": [
    "df = data.groupby(['arrival_date_week_number','market_segment']).agg(mean_adr=(\"adr\", 'mean'))\n",
    "df = df.reset_index()\n",
    "  \n",
    "# plot barplot\n",
    "sns.barplot(x=\"arrival_date_week_number\",\n",
    "           y=\"mean_adr\",hue = 'market_segment',\n",
    "           data=df)"
   ]
  },
  {
   "cell_type": "code",
   "execution_count": null,
   "id": "c298d0b9",
   "metadata": {},
   "outputs": [],
   "source": []
  }
 ],
 "metadata": {
  "kernelspec": {
   "display_name": "Python 3",
   "language": "python",
   "name": "python3"
  },
  "language_info": {
   "codemirror_mode": {
    "name": "ipython",
    "version": 3
   },
   "file_extension": ".py",
   "mimetype": "text/x-python",
   "name": "python",
   "nbconvert_exporter": "python",
   "pygments_lexer": "ipython3",
   "version": "3.8.8"
  }
 },
 "nbformat": 4,
 "nbformat_minor": 5
}
