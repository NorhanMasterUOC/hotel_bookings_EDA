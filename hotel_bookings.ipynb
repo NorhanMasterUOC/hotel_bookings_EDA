{
 "cells": [
  {
   "cell_type": "markdown",
   "id": "d6900781",
   "metadata": {},
   "source": [
    "## 1. Descripción del dataset"
   ]
  },
  {
   "cell_type": "markdown",
   "id": "e011c123",
   "metadata": {},
   "source": [
    "El objeto de estudio es un *dataset* que abarca las reservas de dos hoteles distintos, un hotel de tipo resort y otro urbano, desde el año 2015 hasta el 2017. \n",
    "\n",
    "La importancia del estudio reside en la identificación de las características de una reserva que tiene impacto en el precio medio de las habitaciones y cómo podemos optimizar este, ya sea alargando o reduciendo la estancia, por ejemplo. Es decir, el objetivo es determinar las variables que impactan en el $ adr $ (del inglés, Average Daily Room \"€\"). Las variables estudiadas son:\n",
    "\n",
    "- **hotel:** Hotel (H1 = Resort Hotel or H2 = City Hotel)\n",
    "- **lead_time:** Number of days that elapsed between the entering date of the booking into the PMS and the arrival date\n",
    "- **arrival_date_year:** Year of arrival date\n",
    "- **arrival_date_month:** Month of arrival date\n",
    "- **arrival_date_week_number:** Week number of year for arrival date\n",
    "- **stays_in_weekend_nights:** Number of weekend nights (Saturday or Sunday) the guest stayed or booked to stay at the hotel\n",
    "- **stays_in_week_nights:** Number of week nights (Monday to Friday) the guest stayed or booked to stay at the hotel\n",
    "- **country:** Country of origin. Categories are represented in the ISO 3155–3:2013 format\n",
    "- **market_segment:** Market segment designation. In categories, the term “TA” means “Travel Agents” and “TO” means “Tour Operators”\n",
    "- **reserved_room_type:** tipo de habitacion ('A', 'B', 'C'...)\n",
    "- **adr:** Average Daily Rate as defined by dividing the sum of all lodging transactions by the total number of staying nights"
   ]
  },
  {
   "cell_type": "markdown",
   "id": "34a28932",
   "metadata": {},
   "source": [
    "# 2. Integración y selección de los datos"
   ]
  },
  {
   "cell_type": "code",
   "execution_count": 2,
   "id": "45529032",
   "metadata": {},
   "outputs": [],
   "source": [
    "import numpy as np\n",
    "import pandas as pd\n",
    "import statistics\n",
    "from scipy import stats\n",
    "import matplotlib.pyplot as plt\n",
    "import seaborn as sns\n",
    "from datetime import datetime\n",
    "import requests\n",
    "import sklearn\n",
    "from bs4 import BeautifulSoup as BS\n",
    "from sklearn import datasets, linear_model, metrics\n",
    "from sklearn import preprocessing\n",
    "from sklearn.model_selection import train_test_split"
   ]
  },
  {
   "cell_type": "markdown",
   "id": "b7dfaaed",
   "metadata": {},
   "source": [
    "Cargamos el *dataset* y comprobamos su tamaño:"
   ]
  },
  {
   "cell_type": "code",
   "execution_count": 3,
   "id": "2288ac5e",
   "metadata": {},
   "outputs": [
    {
     "data": {
      "text/plain": [
       "(119390, 32)"
      ]
     },
     "execution_count": 3,
     "metadata": {},
     "output_type": "execute_result"
    }
   ],
   "source": [
    "data = pd.read_csv('hotel_bookings.csv')\n",
    "\n",
    "# Comprobamos sus dimensiones\n",
    "data.shape"
   ]
  },
  {
   "cell_type": "markdown",
   "id": "75c7dfb6",
   "metadata": {},
   "source": [
    "Mantenemos únicamente las variables que nos interesan:"
   ]
  },
  {
   "cell_type": "code",
   "execution_count": 4,
   "id": "8c8136e9",
   "metadata": {},
   "outputs": [],
   "source": [
    "# Mantenemos únicamente las variables que nos interesan\n",
    "variables = [\n",
    "    \"hotel\", \"lead_time\",\n",
    "    \"arrival_date_year\", \"arrival_date_month\", \"arrival_date_week_number\",\n",
    "    \"stays_in_weekend_nights\", \"stays_in_week_nights\",\n",
    "    \"country\", \"market_segment\",\n",
    "    \"adr\",\"reserved_room_type\"\n",
    "]\n",
    "\n",
    "data = data[variables]"
   ]
  },
  {
   "cell_type": "code",
   "execution_count": 5,
   "id": "cd133d49",
   "metadata": {
    "scrolled": true
   },
   "outputs": [
    {
     "data": {
      "text/plain": [
       "(119390, 11)"
      ]
     },
     "execution_count": 5,
     "metadata": {},
     "output_type": "execute_result"
    }
   ],
   "source": [
    "# Comprobamos sus dimensiones\n",
    "data.shape"
   ]
  },
  {
   "cell_type": "code",
   "execution_count": 6,
   "id": "3dee1320",
   "metadata": {
    "scrolled": false
   },
   "outputs": [
    {
     "name": "stdout",
     "output_type": "stream",
     "text": [
      "<class 'pandas.core.frame.DataFrame'>\n",
      "RangeIndex: 119390 entries, 0 to 119389\n",
      "Data columns (total 11 columns):\n",
      " #   Column                    Non-Null Count   Dtype  \n",
      "---  ------                    --------------   -----  \n",
      " 0   hotel                     119390 non-null  object \n",
      " 1   lead_time                 119390 non-null  int64  \n",
      " 2   arrival_date_year         119390 non-null  int64  \n",
      " 3   arrival_date_month        119390 non-null  object \n",
      " 4   arrival_date_week_number  119390 non-null  int64  \n",
      " 5   stays_in_weekend_nights   119390 non-null  int64  \n",
      " 6   stays_in_week_nights      119390 non-null  int64  \n",
      " 7   country                   118902 non-null  object \n",
      " 8   market_segment            119390 non-null  object \n",
      " 9   adr                       119390 non-null  float64\n",
      " 10  reserved_room_type        119390 non-null  object \n",
      "dtypes: float64(1), int64(5), object(5)\n",
      "memory usage: 10.0+ MB\n"
     ]
    }
   ],
   "source": [
    "data.info()"
   ]
  },
  {
   "cell_type": "markdown",
   "id": "05b31daf",
   "metadata": {},
   "source": [
    "A simple vista, parece ser que los datos están en el formato esperado. Contamos con cuatro variables categóricas:\n",
    "\n",
    "- **hotel:** tipo de hotel ('Resort Hotel' o 'City Hotel')\n",
    "- **arrival_date_month:** mes de llegada ('January', 'February'...)\n",
    "- **country:** país de origen representado en el formato ISO 3155–3:2013 ('ESP', 'USA'...)\n",
    "- **market_segment:** segmento de mercado ('Direct', 'Corporate' 'Online TA'...)\n",
    "- **reserved_room_type:** tipo de habitacion ('A', 'B', 'C'...)"
   ]
  },
  {
   "cell_type": "markdown",
   "id": "94c74289",
   "metadata": {},
   "source": [
    "y seis variables numéricas:\n",
    "\n",
    "- **lead_time:** días de antelación para la reserva\n",
    "- **arrival_date_year:** año de llegada\n",
    "- **arrival_date_week_number:** semana del año de llegada\n",
    "- **stays_in_weekend_nights:** noches del fin de semana (Sábado o Domingo) reservadas \n",
    "- **stays_in_week_nights:** noches de la semana (Lunes a Viernes) reservadas\n",
    "- **adr:** precio medio de la noche, dividiendo el precio total por el número de noches reservadas"
   ]
  },
  {
   "cell_type": "markdown",
   "id": "5fad43c6",
   "metadata": {},
   "source": [
    "en total, diez variables."
   ]
  },
  {
   "cell_type": "markdown",
   "id": "96679da7",
   "metadata": {},
   "source": [
    "# 3. Limpieza de los datos"
   ]
  },
  {
   "cell_type": "markdown",
   "id": "82b8b567",
   "metadata": {},
   "source": [
    "A continuación, procedemos a preparar el conjunto de datos para su posterior análisis. Para ello, se examinarán los datos para detectar y corregir posibles errores, inconsistencias y valores perdidos.\n",
    "\n",
    "La preparación de los datos cada vez cobra más importancia, dado que la base de cualquier estudio estadístico es la información recogida, es decir, los datos disponibles para realizar el modelo y obtener las conclusiones."
   ]
  },
  {
   "cell_type": "markdown",
   "id": "51438236",
   "metadata": {},
   "source": [
    "Comprobamos la existencia de valores nulos en el conjunto de datos:"
   ]
  },
  {
   "cell_type": "code",
   "execution_count": 7,
   "id": "d03cfda0",
   "metadata": {
    "scrolled": false
   },
   "outputs": [
    {
     "data": {
      "image/png": "[encoded data removed]",
      "text/plain": [
       "<Figure size 864x432 with 2 Axes>"
      ]
     },
     "metadata": {
      "needs_background": "light"
     },
     "output_type": "display_data"
    }
   ],
   "source": [
    "plt.figure(figsize=(12, 6))\n",
    "sns.heatmap(data.isnull());"
   ]
  },
  {
   "cell_type": "markdown",
   "id": "acfb61df",
   "metadata": {},
   "source": [
    "Observamos que algunas reservas no tienen informadas el país de origen, pero, como su número es insignificante, las eliminamos del conjunto de datos:"
   ]
  },
  {
   "cell_type": "code",
   "execution_count": 8,
   "id": "ec97c72d",
   "metadata": {},
   "outputs": [],
   "source": [
    "data = data.dropna()"
   ]
  },
  {
   "cell_type": "markdown",
   "id": "05207f51",
   "metadata": {},
   "source": [
    "## 3.1. Preprocesado de variables categóricas"
   ]
  },
  {
   "cell_type": "markdown",
   "id": "28e19d1a",
   "metadata": {},
   "source": [
    "La comprobación que hemos hecho no es suficiente para garantizar la ausencia de valores desconocidos. Estudiemos variable por variable en búsqueda de anomalías que nos sugieran que su valor es desconocido:"
   ]
  },
  {
   "cell_type": "markdown",
   "id": "e1429f9c",
   "metadata": {},
   "source": [
    "### **hotel**"
   ]
  },
  {
   "cell_type": "code",
   "execution_count": 9,
   "id": "bb2d0d79",
   "metadata": {},
   "outputs": [
    {
     "data": {
      "text/plain": [
       "['Resort Hotel', 'City Hotel']"
      ]
     },
     "execution_count": 9,
     "metadata": {},
     "output_type": "execute_result"
    }
   ],
   "source": [
    "list(data[\"hotel\"].unique())"
   ]
  },
  {
   "cell_type": "markdown",
   "id": "7e260b02",
   "metadata": {},
   "source": [
    "### **arrival_date_month**"
   ]
  },
  {
   "cell_type": "code",
   "execution_count": 10,
   "id": "30e3c650",
   "metadata": {
    "scrolled": false
   },
   "outputs": [
    {
     "data": {
      "text/plain": [
       "['January',\n",
       " 'February',\n",
       " 'March',\n",
       " 'April',\n",
       " 'May',\n",
       " 'June',\n",
       " 'July',\n",
       " 'August',\n",
       " 'September',\n",
       " 'October',\n",
       " 'November',\n",
       " 'December']"
      ]
     },
     "execution_count": 10,
     "metadata": {},
     "output_type": "execute_result"
    }
   ],
   "source": [
    "sorted(data[\"arrival_date_month\"].unique(), key = lambda m: datetime.strptime(m, \"%B\"))"
   ]
  },
  {
   "cell_type": "markdown",
   "id": "db180c76",
   "metadata": {},
   "source": [
    "### **country**"
   ]
  },
  {
   "cell_type": "code",
   "execution_count": 11,
   "id": "517fa55c",
   "metadata": {},
   "outputs": [
    {
     "data": {
      "text/plain": [
       "['PRT', 'GBR', 'USA', 'ESP', 'IRL']"
      ]
     },
     "execution_count": 11,
     "metadata": {},
     "output_type": "execute_result"
    }
   ],
   "source": [
    "countries = set(data[\"country\"].unique())\n",
    "list(data[\"country\"].unique()[0:5])"
   ]
  },
  {
   "cell_type": "code",
   "execution_count": 12,
   "id": "ce3741e3",
   "metadata": {},
   "outputs": [
    {
     "data": {
      "text/plain": [
       "177"
      ]
     },
     "execution_count": 12,
     "metadata": {},
     "output_type": "execute_result"
    }
   ],
   "source": [
    "len(data[\"country\"].unique())"
   ]
  },
  {
   "cell_type": "markdown",
   "id": "aa22d29e",
   "metadata": {},
   "source": [
    "El conjunto de datos contiene reservas de 177 países. A continuación, vamos a comprobar que todos estos están en **formato ISO 3166-1 alpha-3**, como indica el autor del *dataset*. Para ello, obtenemos la lista de Wikipedia:"
   ]
  },
  {
   "cell_type": "code",
   "execution_count": 13,
   "id": "9763e9aa",
   "metadata": {},
   "outputs": [],
   "source": [
    "headers = {\n",
    "    \"Accept\": \"text/html,application/xhtml+xml,application/xml;q=0.9,image/webp,\\\n",
    "    */*;q=0.8\",\n",
    "    \"Accept-Encoding\": \"gzip, deflate, sdch, br\",\n",
    "    \"Accept-Language\": \"en-US,en;q=0.8\",\n",
    "    \"Cache-Control\": \"no-cache\",\n",
    "    \"dnt\": \"1\",\n",
    "    \"Pragma\": \"no-cache\",\n",
    "    \"Upgrade-Insecure-Requests\": \"1\",\n",
    "    \"User-Agent\": \"Mozilla/5.0 (Macintosh; Intel Mac OS X 10_12_3) AppleWebKit/5\\\n",
    "    37.36 (KHTML, like Gecko) Chrome/56.0.2924.87 Safari/537.36\"\n",
    "}\n",
    "\n",
    "url = \"https://en.wikipedia.org/wiki/List_of_ISO_3166_country_codes\"\n",
    "\n",
    "response = requests.get(url, stream=True, headers=headers)\n",
    "\n",
    "soup = BS(response.content, 'html.parser')\n",
    "\n",
    "fields = soup.select('a[title=\"ISO 3166-1 alpha-3\"] span')\n",
    "\n",
    "ISO = set()\n",
    "\n",
    "for field in fields:\n",
    "    code = field.text\n",
    "    ISO.add(code)"
   ]
  },
  {
   "cell_type": "markdown",
   "id": "65c48009",
   "metadata": {},
   "source": [
    "Comprobamos que todos los códigos están contenidos en la lista que obtuvimos de Wikipedia:"
   ]
  },
  {
   "cell_type": "code",
   "execution_count": 14,
   "id": "adacf8e7",
   "metadata": {},
   "outputs": [
    {
     "data": {
      "text/plain": [
       "False"
      ]
     },
     "execution_count": 14,
     "metadata": {},
     "output_type": "execute_result"
    }
   ],
   "source": [
    "(set(ISO) & set(countries)) == set(countries)"
   ]
  },
  {
   "cell_type": "code",
   "execution_count": 15,
   "id": "3fab016e",
   "metadata": {
    "scrolled": true
   },
   "outputs": [
    {
     "data": {
      "text/plain": [
       "{'CN', 'TMP'}"
      ]
     },
     "execution_count": 15,
     "metadata": {},
     "output_type": "execute_result"
    }
   ],
   "source": [
    "countries - ISO"
   ]
  },
  {
   "cell_type": "markdown",
   "id": "bdbf2648",
   "metadata": {},
   "source": [
    "Por un lado, 'CN' hace referencia a China, pero está en el formato ISO 3166-1 alpha-2, por lo que lo transformamos a su equivalente, 'CHN', en formato alpha-3:"
   ]
  },
  {
   "cell_type": "code",
   "execution_count": 16,
   "id": "46f4349f",
   "metadata": {},
   "outputs": [],
   "source": [
    "data.loc[data[\"country\"] == \"CN\", \"country\"] = \"CHN\""
   ]
  },
  {
   "cell_type": "markdown",
   "id": "a1684723",
   "metadata": {},
   "source": [
    "Por otro, desconocemos el país al que hace referencia 'TMP', por lo que procedemos a su eliminación del conjunto de datos, no sin antes comprobar que solo un % pequeño de observaciones hacen referencia a él:"
   ]
  },
  {
   "cell_type": "code",
   "execution_count": 17,
   "id": "eb7e46e5",
   "metadata": {},
   "outputs": [
    {
     "data": {
      "text/plain": [
       "0.0025230862390876524"
      ]
     },
     "execution_count": 17,
     "metadata": {},
     "output_type": "execute_result"
    }
   ],
   "source": [
    "(data.loc[data[\"country\"] == \"TMP\", \"country\"].count()/len(data))*100"
   ]
  },
  {
   "cell_type": "code",
   "execution_count": 18,
   "id": "1fa67a31",
   "metadata": {},
   "outputs": [],
   "source": [
    "data = data.drop(data.loc[data[\"country\"] == \"TMP\", \"country\"].index)"
   ]
  },
  {
   "cell_type": "markdown",
   "id": "5f9fbd8a",
   "metadata": {},
   "source": [
    "### **market_segment**"
   ]
  },
  {
   "cell_type": "code",
   "execution_count": 19,
   "id": "a91d38e5",
   "metadata": {},
   "outputs": [
    {
     "data": {
      "text/plain": [
       "['Direct',\n",
       " 'Corporate',\n",
       " 'Online TA',\n",
       " 'Offline TA/TO',\n",
       " 'Complementary',\n",
       " 'Groups',\n",
       " 'Undefined',\n",
       " 'Aviation']"
      ]
     },
     "execution_count": 19,
     "metadata": {},
     "output_type": "execute_result"
    }
   ],
   "source": [
    "list(data[\"market_segment\"].unique())"
   ]
  },
  {
   "cell_type": "markdown",
   "id": "99f09919",
   "metadata": {},
   "source": [
    "La variable *market_segment* tampoco se libra de los valores nulos. Comprobamos que son una parte pequeña del conjunto de datos y los eliminamos:"
   ]
  },
  {
   "cell_type": "code",
   "execution_count": 20,
   "id": "1b647b12",
   "metadata": {},
   "outputs": [
    {
     "data": {
      "text/plain": [
       "0.0016820999335570527"
      ]
     },
     "execution_count": 20,
     "metadata": {},
     "output_type": "execute_result"
    }
   ],
   "source": [
    "(data.loc[data[\"market_segment\"] == \"Undefined\", \"market_segment\"].count()/len(data))*100"
   ]
  },
  {
   "cell_type": "code",
   "execution_count": 21,
   "id": "aefe1051",
   "metadata": {},
   "outputs": [],
   "source": [
    "data = data.drop(data.loc[data[\"market_segment\"] == \"Undefined\", \"market_segment\"].index)"
   ]
  },
  {
   "cell_type": "markdown",
   "id": "927a02a6",
   "metadata": {},
   "source": [
    "### **reserved_room_type**"
   ]
  },
  {
   "cell_type": "code",
   "execution_count": 22,
   "id": "73246aee",
   "metadata": {},
   "outputs": [
    {
     "data": {
      "text/plain": [
       "A    85600\n",
       "D    19172\n",
       "E     6497\n",
       "F     2889\n",
       "G     2083\n",
       "B     1116\n",
       "C      931\n",
       "H      601\n",
       "L        6\n",
       "P        2\n",
       "Name: reserved_room_type, dtype: int64"
      ]
     },
     "execution_count": 22,
     "metadata": {},
     "output_type": "execute_result"
    }
   ],
   "source": [
    "data[\"reserved_room_type\"].value_counts()"
   ]
  },
  {
   "cell_type": "markdown",
   "id": "c330a236",
   "metadata": {},
   "source": [
    "## 3.2. Preprocesado de variables numéricas"
   ]
  },
  {
   "cell_type": "markdown",
   "id": "22f7f311",
   "metadata": {},
   "source": [
    "### **lead_time**"
   ]
  },
  {
   "cell_type": "code",
   "execution_count": 23,
   "id": "8d792f5c",
   "metadata": {},
   "outputs": [
    {
     "data": {
      "text/html": [
       "<div>\n",
       "<style scoped>\n",
       "    .dataframe tbody tr th:only-of-type {\n",
       "        vertical-align: middle;\n",
       "    }\n",
       "\n",
       "    .dataframe tbody tr th {\n",
       "        vertical-align: top;\n",
       "    }\n",
       "\n",
       "    .dataframe thead th {\n",
       "        text-align: right;\n",
       "    }\n",
       "</style>\n",
       "<table border=\"1\" class=\"dataframe\">\n",
       "  <thead>\n",
       "    <tr style=\"text-align: right;\">\n",
       "      <th></th>\n",
       "      <th>count</th>\n",
       "      <th>mean</th>\n",
       "      <th>std</th>\n",
       "      <th>min</th>\n",
       "      <th>25%</th>\n",
       "      <th>50%</th>\n",
       "      <th>75%</th>\n",
       "      <th>max</th>\n",
       "    </tr>\n",
       "  </thead>\n",
       "  <tbody>\n",
       "    <tr>\n",
       "      <th>lead_time</th>\n",
       "      <td>118897.0</td>\n",
       "      <td>104.311101</td>\n",
       "      <td>106.904193</td>\n",
       "      <td>0.0</td>\n",
       "      <td>18.0</td>\n",
       "      <td>69.0</td>\n",
       "      <td>161.0</td>\n",
       "      <td>737.0</td>\n",
       "    </tr>\n",
       "  </tbody>\n",
       "</table>\n",
       "</div>"
      ],
      "text/plain": [
       "              count        mean         std  min   25%   50%    75%    max\n",
       "lead_time  118897.0  104.311101  106.904193  0.0  18.0  69.0  161.0  737.0"
      ]
     },
     "execution_count": 23,
     "metadata": {},
     "output_type": "execute_result"
    }
   ],
   "source": [
    "pd.DataFrame(data[\"lead_time\"].describe()).transpose()"
   ]
  },
  {
   "cell_type": "markdown",
   "id": "5ca1a59f",
   "metadata": {},
   "source": [
    "Parece raro que una reserva se haga con 737 días de antelación. Vamos a representar los valores en una caja de bigotes para identificar valores extremos:"
   ]
  },
  {
   "cell_type": "code",
   "execution_count": 24,
   "id": "61d1d8b9",
   "metadata": {},
   "outputs": [
    {
     "name": "stderr",
     "output_type": "stream",
     "text": [
      "/Users/mohammed/opt/anaconda3/lib/python3.8/site-packages/seaborn/_decorators.py:36: FutureWarning: Pass the following variable as a keyword arg: x. From version 0.12, the only valid positional argument will be `data`, and passing other arguments without an explicit keyword will result in an error or misinterpretation.\n",
      "  warnings.warn(\n"
     ]
    },
    {
     "data": {
      "image/png": "[encoded data removed]",
      "text/plain": [
       "<Figure size 864x432 with 1 Axes>"
      ]
     },
     "metadata": {
      "needs_background": "dark"
     },
     "output_type": "display_data"
    }
   ],
   "source": [
    "plt.figure(figsize=(12, 6))\n",
    "plt.style.use('dark_background')\n",
    "\n",
    "sns.boxplot(data['lead_time'])\n",
    "\n",
    "plt.show()"
   ]
  },
  {
   "cell_type": "markdown",
   "id": "52f64b4d",
   "metadata": {},
   "source": [
    "Establecemos que aquellos valores que sean mayores que 1.5 veces el valor del rango intercuartil (IQR) son anómalos."
   ]
  },
  {
   "cell_type": "code",
   "execution_count": 25,
   "id": "bf0961c2",
   "metadata": {},
   "outputs": [
    {
     "data": {
      "text/plain": [
       "143.0"
      ]
     },
     "execution_count": 25,
     "metadata": {},
     "output_type": "execute_result"
    }
   ],
   "source": [
    "# ¿Cuál es el rango intercuartil de 'lead_time'?\n",
    "Q1, Q3 = data['lead_time'].quantile([.25, .75])\n",
    "# Rango intercuartil = Tercer cuartil - Primer cuartil\n",
    "IQR = Q3 - Q1 \n",
    "IQR"
   ]
  },
  {
   "cell_type": "code",
   "execution_count": 26,
   "id": "03fc120f",
   "metadata": {},
   "outputs": [
    {
     "data": {
      "text/plain": [
       "2982"
      ]
     },
     "execution_count": 26,
     "metadata": {},
     "output_type": "execute_result"
    }
   ],
   "source": [
    "# ¿Cuántos valores anómalos tiene la variable 'lead_time'?\n",
    "((data['lead_time'] < (Q1 - 1.5 * IQR)) | (data['lead_time'] > (Q3 + 1.5 * IQR))).sum()"
   ]
  },
  {
   "cell_type": "code",
   "execution_count": 27,
   "id": "1d5f10c1",
   "metadata": {},
   "outputs": [
    {
     "data": {
      "text/plain": [
       "2.5080531888945896"
      ]
     },
     "execution_count": 27,
     "metadata": {},
     "output_type": "execute_result"
    }
   ],
   "source": [
    "# ¿Cuál es el % de estos comparado con el total?\n",
    "((data['lead_time'] < (Q1 - 1.5 * IQR)) | (data['lead_time'] > (Q3 + 1.5 * IQR))).sum()*100/len(data)"
   ]
  },
  {
   "cell_type": "markdown",
   "id": "e44e3c50",
   "metadata": {},
   "source": [
    "### **arrival_date_year**"
   ]
  },
  {
   "cell_type": "code",
   "execution_count": 28,
   "id": "91ec6db0",
   "metadata": {},
   "outputs": [
    {
     "data": {
      "text/plain": [
       "[2015, 2016, 2017]"
      ]
     },
     "execution_count": 28,
     "metadata": {},
     "output_type": "execute_result"
    }
   ],
   "source": [
    "list(data[\"arrival_date_year\"].unique())"
   ]
  },
  {
   "cell_type": "markdown",
   "id": "0f07b44b",
   "metadata": {},
   "source": [
    "### **arrival_date_week_number**"
   ]
  },
  {
   "cell_type": "code",
   "execution_count": 29,
   "id": "cbaf227a",
   "metadata": {},
   "outputs": [
    {
     "data": {
      "text/html": [
       "<div>\n",
       "<style scoped>\n",
       "    .dataframe tbody tr th:only-of-type {\n",
       "        vertical-align: middle;\n",
       "    }\n",
       "\n",
       "    .dataframe tbody tr th {\n",
       "        vertical-align: top;\n",
       "    }\n",
       "\n",
       "    .dataframe thead th {\n",
       "        text-align: right;\n",
       "    }\n",
       "</style>\n",
       "<table border=\"1\" class=\"dataframe\">\n",
       "  <thead>\n",
       "    <tr style=\"text-align: right;\">\n",
       "      <th></th>\n",
       "      <th>count</th>\n",
       "      <th>mean</th>\n",
       "      <th>std</th>\n",
       "      <th>min</th>\n",
       "      <th>25%</th>\n",
       "      <th>50%</th>\n",
       "      <th>75%</th>\n",
       "      <th>max</th>\n",
       "    </tr>\n",
       "  </thead>\n",
       "  <tbody>\n",
       "    <tr>\n",
       "      <th>arrival_date_week_number</th>\n",
       "      <td>118897.0</td>\n",
       "      <td>27.166262</td>\n",
       "      <td>13.589722</td>\n",
       "      <td>1.0</td>\n",
       "      <td>16.0</td>\n",
       "      <td>28.0</td>\n",
       "      <td>38.0</td>\n",
       "      <td>53.0</td>\n",
       "    </tr>\n",
       "  </tbody>\n",
       "</table>\n",
       "</div>"
      ],
      "text/plain": [
       "                             count       mean        std  min   25%   50%  \\\n",
       "arrival_date_week_number  118897.0  27.166262  13.589722  1.0  16.0  28.0   \n",
       "\n",
       "                           75%   max  \n",
       "arrival_date_week_number  38.0  53.0  "
      ]
     },
     "execution_count": 29,
     "metadata": {},
     "output_type": "execute_result"
    }
   ],
   "source": [
    "pd.DataFrame(data[\"arrival_date_week_number\"].describe()).transpose()"
   ]
  },
  {
   "cell_type": "code",
   "execution_count": 30,
   "id": "a8dbd674",
   "metadata": {},
   "outputs": [
    {
     "data": {
      "text/plain": [
       "53"
      ]
     },
     "execution_count": 30,
     "metadata": {},
     "output_type": "execute_result"
    }
   ],
   "source": [
    "len(data[\"arrival_date_week_number\"].unique())"
   ]
  },
  {
   "cell_type": "markdown",
   "id": "86efd0f7",
   "metadata": {},
   "source": [
    "La muestra de reservas obtenida cubre todas las semanas del año."
   ]
  },
  {
   "cell_type": "code",
   "execution_count": 31,
   "id": "2b00e6a8",
   "metadata": {},
   "outputs": [
    {
     "data": {
      "text/plain": [
       "dtype('int64')"
      ]
     },
     "execution_count": 31,
     "metadata": {},
     "output_type": "execute_result"
    }
   ],
   "source": [
    "data.dtypes[\"arrival_date_week_number\"]"
   ]
  },
  {
   "cell_type": "markdown",
   "id": "5c71e62b",
   "metadata": {},
   "source": [
    "Los valores de la variable está contenida en el rango [1, 53] de los números naturales, como acabamos de comprobar."
   ]
  },
  {
   "cell_type": "markdown",
   "id": "3301778b",
   "metadata": {},
   "source": [
    "### **stays_in_weekend_nights**"
   ]
  },
  {
   "cell_type": "code",
   "execution_count": 32,
   "id": "44ddd5ef",
   "metadata": {},
   "outputs": [
    {
     "data": {
      "text/html": [
       "<div>\n",
       "<style scoped>\n",
       "    .dataframe tbody tr th:only-of-type {\n",
       "        vertical-align: middle;\n",
       "    }\n",
       "\n",
       "    .dataframe tbody tr th {\n",
       "        vertical-align: top;\n",
       "    }\n",
       "\n",
       "    .dataframe thead th {\n",
       "        text-align: right;\n",
       "    }\n",
       "</style>\n",
       "<table border=\"1\" class=\"dataframe\">\n",
       "  <thead>\n",
       "    <tr style=\"text-align: right;\">\n",
       "      <th></th>\n",
       "      <th>count</th>\n",
       "      <th>mean</th>\n",
       "      <th>std</th>\n",
       "      <th>min</th>\n",
       "      <th>25%</th>\n",
       "      <th>50%</th>\n",
       "      <th>75%</th>\n",
       "      <th>max</th>\n",
       "    </tr>\n",
       "  </thead>\n",
       "  <tbody>\n",
       "    <tr>\n",
       "      <th>stays_in_weekend_nights</th>\n",
       "      <td>118897.0</td>\n",
       "      <td>0.928888</td>\n",
       "      <td>0.996224</td>\n",
       "      <td>0.0</td>\n",
       "      <td>0.0</td>\n",
       "      <td>1.0</td>\n",
       "      <td>2.0</td>\n",
       "      <td>16.0</td>\n",
       "    </tr>\n",
       "  </tbody>\n",
       "</table>\n",
       "</div>"
      ],
      "text/plain": [
       "                            count      mean       std  min  25%  50%  75%  \\\n",
       "stays_in_weekend_nights  118897.0  0.928888  0.996224  0.0  0.0  1.0  2.0   \n",
       "\n",
       "                          max  \n",
       "stays_in_weekend_nights  16.0  "
      ]
     },
     "execution_count": 32,
     "metadata": {},
     "output_type": "execute_result"
    }
   ],
   "source": [
    "pd.DataFrame(data[\"stays_in_weekend_nights\"].describe()).transpose()"
   ]
  },
  {
   "cell_type": "markdown",
   "id": "5a051172",
   "metadata": {},
   "source": [
    "### **stays_in_week_nights**"
   ]
  },
  {
   "cell_type": "code",
   "execution_count": 33,
   "id": "3c09c802",
   "metadata": {},
   "outputs": [
    {
     "data": {
      "text/html": [
       "<div>\n",
       "<style scoped>\n",
       "    .dataframe tbody tr th:only-of-type {\n",
       "        vertical-align: middle;\n",
       "    }\n",
       "\n",
       "    .dataframe tbody tr th {\n",
       "        vertical-align: top;\n",
       "    }\n",
       "\n",
       "    .dataframe thead th {\n",
       "        text-align: right;\n",
       "    }\n",
       "</style>\n",
       "<table border=\"1\" class=\"dataframe\">\n",
       "  <thead>\n",
       "    <tr style=\"text-align: right;\">\n",
       "      <th></th>\n",
       "      <th>count</th>\n",
       "      <th>mean</th>\n",
       "      <th>std</th>\n",
       "      <th>min</th>\n",
       "      <th>25%</th>\n",
       "      <th>50%</th>\n",
       "      <th>75%</th>\n",
       "      <th>max</th>\n",
       "    </tr>\n",
       "  </thead>\n",
       "  <tbody>\n",
       "    <tr>\n",
       "      <th>stays_in_week_nights</th>\n",
       "      <td>118897.0</td>\n",
       "      <td>2.502183</td>\n",
       "      <td>1.90018</td>\n",
       "      <td>0.0</td>\n",
       "      <td>1.0</td>\n",
       "      <td>2.0</td>\n",
       "      <td>3.0</td>\n",
       "      <td>41.0</td>\n",
       "    </tr>\n",
       "  </tbody>\n",
       "</table>\n",
       "</div>"
      ],
      "text/plain": [
       "                         count      mean      std  min  25%  50%  75%   max\n",
       "stays_in_week_nights  118897.0  2.502183  1.90018  0.0  1.0  2.0  3.0  41.0"
      ]
     },
     "execution_count": 33,
     "metadata": {},
     "output_type": "execute_result"
    }
   ],
   "source": [
    "pd.DataFrame(data[\"stays_in_week_nights\"].describe()).transpose()"
   ]
  },
  {
   "cell_type": "markdown",
   "id": "f46e47b3",
   "metadata": {},
   "source": [
    "Derivamos una columna que haga referencia a la estancia total:"
   ]
  },
  {
   "cell_type": "code",
   "execution_count": 34,
   "id": "8b8cfd30",
   "metadata": {},
   "outputs": [
    {
     "data": {
      "text/html": [
       "<div>\n",
       "<style scoped>\n",
       "    .dataframe tbody tr th:only-of-type {\n",
       "        vertical-align: middle;\n",
       "    }\n",
       "\n",
       "    .dataframe tbody tr th {\n",
       "        vertical-align: top;\n",
       "    }\n",
       "\n",
       "    .dataframe thead th {\n",
       "        text-align: right;\n",
       "    }\n",
       "</style>\n",
       "<table border=\"1\" class=\"dataframe\">\n",
       "  <thead>\n",
       "    <tr style=\"text-align: right;\">\n",
       "      <th></th>\n",
       "      <th>hotel</th>\n",
       "      <th>lead_time</th>\n",
       "      <th>arrival_date_year</th>\n",
       "      <th>arrival_date_month</th>\n",
       "      <th>arrival_date_week_number</th>\n",
       "      <th>stays_in_weekend_nights</th>\n",
       "      <th>stays_in_week_nights</th>\n",
       "      <th>country</th>\n",
       "      <th>market_segment</th>\n",
       "      <th>adr</th>\n",
       "      <th>reserved_room_type</th>\n",
       "      <th>total_stay</th>\n",
       "    </tr>\n",
       "  </thead>\n",
       "  <tbody>\n",
       "    <tr>\n",
       "      <th>0</th>\n",
       "      <td>Resort Hotel</td>\n",
       "      <td>342</td>\n",
       "      <td>2015</td>\n",
       "      <td>July</td>\n",
       "      <td>27</td>\n",
       "      <td>0</td>\n",
       "      <td>0</td>\n",
       "      <td>PRT</td>\n",
       "      <td>Direct</td>\n",
       "      <td>0.0</td>\n",
       "      <td>C</td>\n",
       "      <td>0</td>\n",
       "    </tr>\n",
       "    <tr>\n",
       "      <th>1</th>\n",
       "      <td>Resort Hotel</td>\n",
       "      <td>737</td>\n",
       "      <td>2015</td>\n",
       "      <td>July</td>\n",
       "      <td>27</td>\n",
       "      <td>0</td>\n",
       "      <td>0</td>\n",
       "      <td>PRT</td>\n",
       "      <td>Direct</td>\n",
       "      <td>0.0</td>\n",
       "      <td>C</td>\n",
       "      <td>0</td>\n",
       "    </tr>\n",
       "    <tr>\n",
       "      <th>2</th>\n",
       "      <td>Resort Hotel</td>\n",
       "      <td>7</td>\n",
       "      <td>2015</td>\n",
       "      <td>July</td>\n",
       "      <td>27</td>\n",
       "      <td>0</td>\n",
       "      <td>1</td>\n",
       "      <td>GBR</td>\n",
       "      <td>Direct</td>\n",
       "      <td>75.0</td>\n",
       "      <td>A</td>\n",
       "      <td>1</td>\n",
       "    </tr>\n",
       "    <tr>\n",
       "      <th>3</th>\n",
       "      <td>Resort Hotel</td>\n",
       "      <td>13</td>\n",
       "      <td>2015</td>\n",
       "      <td>July</td>\n",
       "      <td>27</td>\n",
       "      <td>0</td>\n",
       "      <td>1</td>\n",
       "      <td>GBR</td>\n",
       "      <td>Corporate</td>\n",
       "      <td>75.0</td>\n",
       "      <td>A</td>\n",
       "      <td>1</td>\n",
       "    </tr>\n",
       "    <tr>\n",
       "      <th>4</th>\n",
       "      <td>Resort Hotel</td>\n",
       "      <td>14</td>\n",
       "      <td>2015</td>\n",
       "      <td>July</td>\n",
       "      <td>27</td>\n",
       "      <td>0</td>\n",
       "      <td>2</td>\n",
       "      <td>GBR</td>\n",
       "      <td>Online TA</td>\n",
       "      <td>98.0</td>\n",
       "      <td>A</td>\n",
       "      <td>2</td>\n",
       "    </tr>\n",
       "  </tbody>\n",
       "</table>\n",
       "</div>"
      ],
      "text/plain": [
       "          hotel  lead_time  arrival_date_year arrival_date_month  \\\n",
       "0  Resort Hotel        342               2015               July   \n",
       "1  Resort Hotel        737               2015               July   \n",
       "2  Resort Hotel          7               2015               July   \n",
       "3  Resort Hotel         13               2015               July   \n",
       "4  Resort Hotel         14               2015               July   \n",
       "\n",
       "   arrival_date_week_number  stays_in_weekend_nights  stays_in_week_nights  \\\n",
       "0                        27                        0                     0   \n",
       "1                        27                        0                     0   \n",
       "2                        27                        0                     1   \n",
       "3                        27                        0                     1   \n",
       "4                        27                        0                     2   \n",
       "\n",
       "  country market_segment   adr reserved_room_type  total_stay  \n",
       "0     PRT         Direct   0.0                  C           0  \n",
       "1     PRT         Direct   0.0                  C           0  \n",
       "2     GBR         Direct  75.0                  A           1  \n",
       "3     GBR      Corporate  75.0                  A           1  \n",
       "4     GBR      Online TA  98.0                  A           2  "
      ]
     },
     "execution_count": 34,
     "metadata": {},
     "output_type": "execute_result"
    }
   ],
   "source": [
    "data[\"total_stay\"] = data[\"stays_in_week_nights\"] + data[\"stays_in_weekend_nights\"]\n",
    "data.head()"
   ]
  },
  {
   "cell_type": "markdown",
   "id": "bae6b8ce",
   "metadata": {},
   "source": [
    "Nos aseguramos que la estancia total no sume cero:"
   ]
  },
  {
   "cell_type": "code",
   "execution_count": 35,
   "id": "0702ed63",
   "metadata": {},
   "outputs": [
    {
     "data": {
      "text/plain": [
       "701"
      ]
     },
     "execution_count": 35,
     "metadata": {},
     "output_type": "execute_result"
    }
   ],
   "source": [
    "len(data[data[\"total_stay\"] == 0].index)"
   ]
  },
  {
   "cell_type": "markdown",
   "id": "145e2199",
   "metadata": {},
   "source": [
    "Aquellos registros cuya estancia total sume cero los tratamos sustituyendo el valor por la media:"
   ]
  },
  {
   "cell_type": "code",
   "execution_count": 36,
   "id": "78f98d52",
   "metadata": {},
   "outputs": [
    {
     "data": {
      "text/html": [
       "<div>\n",
       "<style scoped>\n",
       "    .dataframe tbody tr th:only-of-type {\n",
       "        vertical-align: middle;\n",
       "    }\n",
       "\n",
       "    .dataframe tbody tr th {\n",
       "        vertical-align: top;\n",
       "    }\n",
       "\n",
       "    .dataframe thead th {\n",
       "        text-align: right;\n",
       "    }\n",
       "</style>\n",
       "<table border=\"1\" class=\"dataframe\">\n",
       "  <thead>\n",
       "    <tr style=\"text-align: right;\">\n",
       "      <th></th>\n",
       "      <th>hotel</th>\n",
       "      <th>lead_time</th>\n",
       "      <th>arrival_date_year</th>\n",
       "      <th>arrival_date_month</th>\n",
       "      <th>arrival_date_week_number</th>\n",
       "      <th>stays_in_weekend_nights</th>\n",
       "      <th>stays_in_week_nights</th>\n",
       "      <th>country</th>\n",
       "      <th>market_segment</th>\n",
       "      <th>adr</th>\n",
       "      <th>reserved_room_type</th>\n",
       "      <th>total_stay</th>\n",
       "    </tr>\n",
       "  </thead>\n",
       "  <tbody>\n",
       "    <tr>\n",
       "      <th>0</th>\n",
       "      <td>Resort Hotel</td>\n",
       "      <td>342</td>\n",
       "      <td>2015</td>\n",
       "      <td>July</td>\n",
       "      <td>27</td>\n",
       "      <td>0</td>\n",
       "      <td>0</td>\n",
       "      <td>PRT</td>\n",
       "      <td>Direct</td>\n",
       "      <td>0.0</td>\n",
       "      <td>C</td>\n",
       "      <td>3</td>\n",
       "    </tr>\n",
       "    <tr>\n",
       "      <th>1</th>\n",
       "      <td>Resort Hotel</td>\n",
       "      <td>737</td>\n",
       "      <td>2015</td>\n",
       "      <td>July</td>\n",
       "      <td>27</td>\n",
       "      <td>0</td>\n",
       "      <td>0</td>\n",
       "      <td>PRT</td>\n",
       "      <td>Direct</td>\n",
       "      <td>0.0</td>\n",
       "      <td>C</td>\n",
       "      <td>3</td>\n",
       "    </tr>\n",
       "    <tr>\n",
       "      <th>2</th>\n",
       "      <td>Resort Hotel</td>\n",
       "      <td>7</td>\n",
       "      <td>2015</td>\n",
       "      <td>July</td>\n",
       "      <td>27</td>\n",
       "      <td>0</td>\n",
       "      <td>1</td>\n",
       "      <td>GBR</td>\n",
       "      <td>Direct</td>\n",
       "      <td>75.0</td>\n",
       "      <td>A</td>\n",
       "      <td>1</td>\n",
       "    </tr>\n",
       "    <tr>\n",
       "      <th>3</th>\n",
       "      <td>Resort Hotel</td>\n",
       "      <td>13</td>\n",
       "      <td>2015</td>\n",
       "      <td>July</td>\n",
       "      <td>27</td>\n",
       "      <td>0</td>\n",
       "      <td>1</td>\n",
       "      <td>GBR</td>\n",
       "      <td>Corporate</td>\n",
       "      <td>75.0</td>\n",
       "      <td>A</td>\n",
       "      <td>1</td>\n",
       "    </tr>\n",
       "    <tr>\n",
       "      <th>4</th>\n",
       "      <td>Resort Hotel</td>\n",
       "      <td>14</td>\n",
       "      <td>2015</td>\n",
       "      <td>July</td>\n",
       "      <td>27</td>\n",
       "      <td>0</td>\n",
       "      <td>2</td>\n",
       "      <td>GBR</td>\n",
       "      <td>Online TA</td>\n",
       "      <td>98.0</td>\n",
       "      <td>A</td>\n",
       "      <td>2</td>\n",
       "    </tr>\n",
       "  </tbody>\n",
       "</table>\n",
       "</div>"
      ],
      "text/plain": [
       "          hotel  lead_time  arrival_date_year arrival_date_month  \\\n",
       "0  Resort Hotel        342               2015               July   \n",
       "1  Resort Hotel        737               2015               July   \n",
       "2  Resort Hotel          7               2015               July   \n",
       "3  Resort Hotel         13               2015               July   \n",
       "4  Resort Hotel         14               2015               July   \n",
       "\n",
       "   arrival_date_week_number  stays_in_weekend_nights  stays_in_week_nights  \\\n",
       "0                        27                        0                     0   \n",
       "1                        27                        0                     0   \n",
       "2                        27                        0                     1   \n",
       "3                        27                        0                     1   \n",
       "4                        27                        0                     2   \n",
       "\n",
       "  country market_segment   adr reserved_room_type  total_stay  \n",
       "0     PRT         Direct   0.0                  C           3  \n",
       "1     PRT         Direct   0.0                  C           3  \n",
       "2     GBR         Direct  75.0                  A           1  \n",
       "3     GBR      Corporate  75.0                  A           1  \n",
       "4     GBR      Online TA  98.0                  A           2  "
      ]
     },
     "execution_count": 36,
     "metadata": {},
     "output_type": "execute_result"
    }
   ],
   "source": [
    "data['total_stay'] = data['total_stay'].replace(0,int(data['total_stay'].mean()))\n",
    "data.head()"
   ]
  },
  {
   "cell_type": "code",
   "execution_count": 37,
   "id": "ef0dfd01",
   "metadata": {},
   "outputs": [
    {
     "name": "stderr",
     "output_type": "stream",
     "text": [
      "/Users/mohammed/opt/anaconda3/lib/python3.8/site-packages/seaborn/_decorators.py:36: FutureWarning: Pass the following variable as a keyword arg: x. From version 0.12, the only valid positional argument will be `data`, and passing other arguments without an explicit keyword will result in an error or misinterpretation.\n",
      "  warnings.warn(\n"
     ]
    },
    {
     "data": {
      "text/plain": [
       "<AxesSubplot:xlabel='total_stay'>"
      ]
     },
     "execution_count": 37,
     "metadata": {},
     "output_type": "execute_result"
    },
    {
     "data": {
      "image/png": "[encoded data removed]",
      "text/plain": [
       "<Figure size 432x288 with 1 Axes>"
      ]
     },
     "metadata": {},
     "output_type": "display_data"
    }
   ],
   "source": [
    "sns.boxplot(data['total_stay'])"
   ]
  },
  {
   "cell_type": "markdown",
   "id": "335d684a",
   "metadata": {},
   "source": [
    "Y tratamos los *outliers* eliminándolos:"
   ]
  },
  {
   "cell_type": "code",
   "execution_count": 38,
   "id": "d3a4588f",
   "metadata": {},
   "outputs": [],
   "source": [
    "data = data[data['total_stay'] < 10]"
   ]
  },
  {
   "cell_type": "markdown",
   "id": "849c5429",
   "metadata": {},
   "source": [
    "### **adr**"
   ]
  },
  {
   "cell_type": "code",
   "execution_count": 39,
   "id": "bf0da270",
   "metadata": {},
   "outputs": [
    {
     "data": {
      "text/html": [
       "<div>\n",
       "<style scoped>\n",
       "    .dataframe tbody tr th:only-of-type {\n",
       "        vertical-align: middle;\n",
       "    }\n",
       "\n",
       "    .dataframe tbody tr th {\n",
       "        vertical-align: top;\n",
       "    }\n",
       "\n",
       "    .dataframe thead th {\n",
       "        text-align: right;\n",
       "    }\n",
       "</style>\n",
       "<table border=\"1\" class=\"dataframe\">\n",
       "  <thead>\n",
       "    <tr style=\"text-align: right;\">\n",
       "      <th></th>\n",
       "      <th>count</th>\n",
       "      <th>mean</th>\n",
       "      <th>std</th>\n",
       "      <th>min</th>\n",
       "      <th>25%</th>\n",
       "      <th>50%</th>\n",
       "      <th>75%</th>\n",
       "      <th>max</th>\n",
       "    </tr>\n",
       "  </thead>\n",
       "  <tbody>\n",
       "    <tr>\n",
       "      <th>adr</th>\n",
       "      <td>115656.0</td>\n",
       "      <td>102.050373</td>\n",
       "      <td>50.389811</td>\n",
       "      <td>0.0</td>\n",
       "      <td>70.0</td>\n",
       "      <td>95.0</td>\n",
       "      <td>126.0</td>\n",
       "      <td>5400.0</td>\n",
       "    </tr>\n",
       "  </tbody>\n",
       "</table>\n",
       "</div>"
      ],
      "text/plain": [
       "        count        mean        std  min   25%   50%    75%     max\n",
       "adr  115656.0  102.050373  50.389811  0.0  70.0  95.0  126.0  5400.0"
      ]
     },
     "execution_count": 39,
     "metadata": {},
     "output_type": "execute_result"
    }
   ],
   "source": [
    "pd.DataFrame(data[\"adr\"].describe()).transpose()"
   ]
  },
  {
   "cell_type": "code",
   "execution_count": 40,
   "id": "1d072902",
   "metadata": {
    "scrolled": false
   },
   "outputs": [
    {
     "name": "stderr",
     "output_type": "stream",
     "text": [
      "/Users/mohammed/opt/anaconda3/lib/python3.8/site-packages/seaborn/_decorators.py:36: FutureWarning: Pass the following variable as a keyword arg: x. From version 0.12, the only valid positional argument will be `data`, and passing other arguments without an explicit keyword will result in an error or misinterpretation.\n",
      "  warnings.warn(\n"
     ]
    },
    {
     "data": {
      "text/plain": [
       "<AxesSubplot:xlabel='adr'>"
      ]
     },
     "execution_count": 40,
     "metadata": {},
     "output_type": "execute_result"
    },
    {
     "data": {
      "image/png": "[encoded data removed]",
      "text/plain": [
       "<Figure size 432x288 with 1 Axes>"
      ]
     },
     "metadata": {},
     "output_type": "display_data"
    }
   ],
   "source": [
    "sns.boxplot(data['adr'])"
   ]
  },
  {
   "cell_type": "markdown",
   "id": "dc154730",
   "metadata": {},
   "source": [
    "Todo $ adr $ que esté por encima de 200 lo consideramos un valor anómalo y lo eliminamos del conjunto de datos."
   ]
  },
  {
   "cell_type": "code",
   "execution_count": 41,
   "id": "238f0804",
   "metadata": {},
   "outputs": [],
   "source": [
    "data = data[data['adr'] < 200]"
   ]
  },
  {
   "cell_type": "markdown",
   "id": "096b43c3",
   "metadata": {},
   "source": [
    "# 4. Análisis de los datos"
   ]
  },
  {
   "cell_type": "markdown",
   "id": "05bb9b96",
   "metadata": {},
   "source": [
    "## 4.1. Noches reservadas"
   ]
  },
  {
   "cell_type": "markdown",
   "id": "04148499",
   "metadata": {},
   "source": [
    "Existe una opinión generalizada que el precio medio de la noche disminuye a medida que aumenta la estancia. Vamos a comprobar qué dicen los datos al respecto."
   ]
  },
  {
   "cell_type": "markdown",
   "id": "d7f232c4",
   "metadata": {},
   "source": [
    "### Análisis visual"
   ]
  },
  {
   "cell_type": "code",
   "execution_count": 42,
   "id": "a3b6f8fa",
   "metadata": {},
   "outputs": [
    {
     "data": {
      "text/plain": [
       "<AxesSubplot:xlabel='total_stay', ylabel='adr'>"
      ]
     },
     "execution_count": 42,
     "metadata": {},
     "output_type": "execute_result"
    },
    {
     "data": {
      "image/png": "[encoded data removed]",
      "text/plain": [
       "<Figure size 432x288 with 1 Axes>"
      ]
     },
     "metadata": {},
     "output_type": "display_data"
    }
   ],
   "source": [
    "sns.boxplot(x = data['total_stay'] , y = data['adr'])"
   ]
  },
  {
   "cell_type": "markdown",
   "id": "0d2d5122",
   "metadata": {},
   "source": [
    "### Interpretación"
   ]
  },
  {
   "cell_type": "markdown",
   "id": "0d985492",
   "metadata": {},
   "source": [
    "Observamos que el precio medio de la noche es menor cuando se reservan 7 noches."
   ]
  },
  {
   "cell_type": "markdown",
   "id": "c3daf415",
   "metadata": {},
   "source": [
    "### Hipótesis nula y alternativa"
   ]
  },
  {
   "cell_type": "markdown",
   "id": "6a3d90a5",
   "metadata": {},
   "source": [
    "Realizamos un contraste de hipótesis para comprobar si el precio medio reservando 7 días es menor que reservando cualquier otro número de días:\n",
    "\n",
    "Proponemos que la hipótesis nula expresada en términos del parámetro $ \\mu $ sea esta:\n",
    "\n",
    "$ H_0: \\mu_1 = \\mu_2 $\n",
    "\n",
    "$ H_1: \\mu_1 - \\mu_2 > 0 $"
   ]
  },
  {
   "cell_type": "markdown",
   "id": "8ceb3fd6",
   "metadata": {},
   "source": [
    "Siendo $ \\mu_1 $ el precio medio reservando 7 días, y $ \\mu_2 $ el precio medio reservando cualquier otro número de días."
   ]
  },
  {
   "cell_type": "markdown",
   "id": "201be63b",
   "metadata": {},
   "source": [
    "### Tipo de test"
   ]
  },
  {
   "cell_type": "markdown",
   "id": "ac831652",
   "metadata": {},
   "source": [
    "Aplicaremos un contraste de hipótesis sobre diferencias de medias poblacionales. Respecto a la hipótesis alternativa, nos interesa que sea unilateral.\n",
    "\n",
    "Antes de proceder al cálculo, comprobamos la normalidad de la variable:"
   ]
  },
  {
   "cell_type": "code",
   "execution_count": 43,
   "id": "354434a6",
   "metadata": {},
   "outputs": [],
   "source": [
    "k2, p = stats.normaltest(data[\"adr\"])"
   ]
  },
  {
   "cell_type": "code",
   "execution_count": 44,
   "id": "3d91d3d3",
   "metadata": {},
   "outputs": [
    {
     "name": "stdout",
     "output_type": "stream",
     "text": [
      "p = 8.58519e-249\n",
      "Rechazamos hipótesis nula\n"
     ]
    }
   ],
   "source": [
    "alpha = 0.05\n",
    "\n",
    "print(\"p = {:g}\".format(p))\n",
    "\n",
    "if p < alpha:  # null hypothesis: x comes from a normal distribution\n",
    "    print(\"Rechazamos hipótesis nula\")\n",
    "else:\n",
    "    print(\"Aceptamos hipótesis nula\")"
   ]
  },
  {
   "cell_type": "markdown",
   "id": "27b48822",
   "metadata": {},
   "source": [
    "La variable no es normal, pero el tamaño de la muestra es superior a treinta observaciones, entonces, por el teorema del límite central, tenemos que la variable está distribuida $ N(0,1) $. "
   ]
  },
  {
   "cell_type": "markdown",
   "id": "0c4630d2",
   "metadata": {},
   "source": [
    "### Cálculos"
   ]
  },
  {
   "cell_type": "markdown",
   "id": "95ce3dc0",
   "metadata": {},
   "source": [
    "1. Determinamos el nivel de significación: $ \\alpha = 0.05 $"
   ]
  },
  {
   "cell_type": "code",
   "execution_count": 45,
   "id": "6839830c",
   "metadata": {},
   "outputs": [],
   "source": [
    "alpha = 0.05"
   ]
  },
  {
   "cell_type": "markdown",
   "id": "2d54fc9a",
   "metadata": {},
   "source": [
    "2. Calculamos:\n",
    "\n",
    "    a) Las medias"
   ]
  },
  {
   "cell_type": "code",
   "execution_count": 46,
   "id": "4e3858ae",
   "metadata": {
    "scrolled": true
   },
   "outputs": [],
   "source": [
    "n_7 = data.groupby(['total_stay'])['hotel'].count().loc[7]\n",
    "mean_7 = data.groupby(['total_stay']).describe()['adr'].loc[7][\"mean\"]\n",
    "\n",
    "n_other = sum(data.groupby(['total_stay'])['hotel'].count().drop(index=[7]))\n",
    "mean_other = statistics.mean(data.groupby(['total_stay']).describe()['adr'].drop(index=[7])[\"mean\"])"
   ]
  },
  {
   "cell_type": "markdown",
   "id": "9f75b1d9",
   "metadata": {},
   "source": [
    "    b) La desviación típica"
   ]
  },
  {
   "cell_type": "code",
   "execution_count": 47,
   "id": "c81cde4f",
   "metadata": {},
   "outputs": [],
   "source": [
    "std_7 = data.groupby(['total_stay']).describe()['adr'].loc[7][\"std\"]\n",
    "std_other = statistics.mean(data.groupby(['total_stay']).describe()['adr'].drop(index=[7])[\"std\"])"
   ]
  },
  {
   "cell_type": "markdown",
   "id": "7a517047",
   "metadata": {},
   "source": [
    "    c) El error estándar:"
   ]
  },
  {
   "cell_type": "code",
   "execution_count": 48,
   "id": "098e793b",
   "metadata": {},
   "outputs": [],
   "source": [
    "std_error = statistics.sqrt((std_7**2/n_7)+(std_other**2/n_other))"
   ]
  },
  {
   "cell_type": "markdown",
   "id": "f37e0b9c",
   "metadata": {},
   "source": [
    "    d) El estadístico de contraste, que sigue una distribución N(0,1)"
   ]
  },
  {
   "cell_type": "code",
   "execution_count": 49,
   "id": "efe6cc92",
   "metadata": {},
   "outputs": [],
   "source": [
    "z = (mean_7-mean_other)/std_error"
   ]
  },
  {
   "cell_type": "markdown",
   "id": "7f154b06",
   "metadata": {},
   "source": [
    "3. Calculamos el p-valor:"
   ]
  },
  {
   "cell_type": "code",
   "execution_count": 50,
   "id": "91be68c3",
   "metadata": {},
   "outputs": [
    {
     "name": "stdout",
     "output_type": "stream",
     "text": [
      "Aceptamos hipótesis nula\n"
     ]
    }
   ],
   "source": [
    "pvalue = 1 - stats.norm.cdf(z)\n",
    "\n",
    "if pvalue < alpha: \n",
    "    print(\"Rechazamos hipótesis nula\")\n",
    "else:\n",
    "    print(\"Aceptamos hipótesis nula\")"
   ]
  },
  {
   "cell_type": "markdown",
   "id": "8bda386c",
   "metadata": {},
   "source": [
    "### Conclusión"
   ]
  },
  {
   "cell_type": "markdown",
   "id": "c67ff6e6",
   "metadata": {},
   "source": [
    "Puesto que el p-valor es mayor que el nivel de significación, aceptamos la hipótesis nula, es decir, podemos decir que el precio medio es similar independientemente del número de noches reservadas."
   ]
  },
  {
   "cell_type": "markdown",
   "id": "4ff3c2e2",
   "metadata": {},
   "source": [
    "## 4.2. Precio medio"
   ]
  },
  {
   "cell_type": "markdown",
   "id": "c0467dbd",
   "metadata": {},
   "source": [
    "Nos preguntamos si, dados los *data points* disponibles, seremos capaces de **predecir el precio medio** de la noche. Para ello, construiremos un modelo de regresión lineal, tomando como variable dependiente $ adr $ y las siguientes variables explicativas:\n",
    "\n",
    "- hotel\n",
    "- arrival_date_month\n",
    "- market_segment\n",
    "- total_stay\n",
    "- reserved_room_type"
   ]
  },
  {
   "cell_type": "markdown",
   "id": "d89cf5ad",
   "metadata": {},
   "source": [
    "### Análisis visual"
   ]
  },
  {
   "cell_type": "markdown",
   "id": "d9eef17a",
   "metadata": {},
   "source": [
    "Antes de entrar al desarrollo del modelo de regresión, hacemos un rápido análisis visual que nos pueda dar una idea de la relación del precio medio con variables como el segmento de mercado o el mes del año.\n",
    "\n",
    "Por un lado, visualizamos la función de densidad del $ adr $ y cómo está relacionada al $ market\\_segment $:"
   ]
  },
  {
   "cell_type": "code",
   "execution_count": 51,
   "id": "f63d2427",
   "metadata": {},
   "outputs": [
    {
     "data": {
      "text/plain": [
       "<seaborn.axisgrid.FacetGrid at 0x7fa54dd27640>"
      ]
     },
     "execution_count": 51,
     "metadata": {},
     "output_type": "execute_result"
    },
    {
     "data": {
      "image/png": "[encoded data removed]",
      "text/plain": [
       "<Figure size 835.875x360 with 1 Axes>"
      ]
     },
     "metadata": {},
     "output_type": "display_data"
    }
   ],
   "source": [
    "sns.displot(data, x=\"adr\", hue=\"market_segment\", kde=True, aspect = 2)"
   ]
  },
  {
   "cell_type": "markdown",
   "id": "91f93598",
   "metadata": {},
   "source": [
    "Observamos que la variable $ adr $ no sigue la distribución normal, tal como concluimos en el análisis anterior."
   ]
  },
  {
   "cell_type": "markdown",
   "id": "6fc05a9c",
   "metadata": {},
   "source": [
    "Por otro lado, construimos un gráfico donde podemos ver cómo varía el precio medio de la noche en cada tipo de hotel a lo largo del año:"
   ]
  },
  {
   "cell_type": "code",
   "execution_count": 52,
   "id": "edd636a6",
   "metadata": {
    "scrolled": false
   },
   "outputs": [
    {
     "data": {
      "text/plain": [
       "<AxesSubplot:xlabel='arrival_date_month'>"
      ]
     },
     "execution_count": 52,
     "metadata": {},
     "output_type": "execute_result"
    },
    {
     "data": {
      "image/png": "[encoded data removed]",
      "text/plain": [
       "<Figure size 1080x504 with 1 Axes>"
      ]
     },
     "metadata": {},
     "output_type": "display_data"
    }
   ],
   "source": [
    "new_order = ['January', 'February', 'March', 'April', 'May', 'June', 'July', 'August', 'September', 'October', \n",
    "             'November', 'December']\n",
    "\n",
    "\n",
    "sorted_month_average_rate = data.groupby(['arrival_date_month','hotel']).mean()['adr'].unstack().reindex(new_order)\n",
    "\n",
    "fig, ax = plt.subplots(figsize=(15,7))\n",
    "sorted_month_average_rate.plot(ax=ax)"
   ]
  },
  {
   "cell_type": "markdown",
   "id": "551f9317",
   "metadata": {},
   "source": [
    "### Modelo de regresión lineal"
   ]
  },
  {
   "cell_type": "markdown",
   "id": "e0b2a519",
   "metadata": {},
   "source": [
    "Recordemos que los algoritmos de aprendizaje automático supervisados aprenden por sí mismos y, en este caso, a obtener automáticamente esa \"recta\" que buscamos con la tendencia de predicción. \n",
    "\n",
    "A partir de las características de una reserva de hotel intentaremos **predecir el precio medio de la noche**.\n",
    "\n",
    "1. Pivotamos las variables categóricas a las columnas, convertiéndolas en indicadores:"
   ]
  },
  {
   "cell_type": "code",
   "execution_count": 53,
   "id": "8b6b2db0",
   "metadata": {},
   "outputs": [
    {
     "data": {
      "text/html": [
       "<div>\n",
       "<style scoped>\n",
       "    .dataframe tbody tr th:only-of-type {\n",
       "        vertical-align: middle;\n",
       "    }\n",
       "\n",
       "    .dataframe tbody tr th {\n",
       "        vertical-align: top;\n",
       "    }\n",
       "\n",
       "    .dataframe thead th {\n",
       "        text-align: right;\n",
       "    }\n",
       "</style>\n",
       "<table border=\"1\" class=\"dataframe\">\n",
       "  <thead>\n",
       "    <tr style=\"text-align: right;\">\n",
       "      <th></th>\n",
       "      <th>total_stay</th>\n",
       "      <th>adr</th>\n",
       "      <th>market_segment_Aviation</th>\n",
       "      <th>market_segment_Complementary</th>\n",
       "      <th>market_segment_Corporate</th>\n",
       "      <th>market_segment_Direct</th>\n",
       "      <th>market_segment_Groups</th>\n",
       "      <th>market_segment_Offline TA/TO</th>\n",
       "      <th>market_segment_Online TA</th>\n",
       "      <th>hotel_City Hotel</th>\n",
       "      <th>...</th>\n",
       "      <th>arrival_date_month_December</th>\n",
       "      <th>arrival_date_month_February</th>\n",
       "      <th>arrival_date_month_January</th>\n",
       "      <th>arrival_date_month_July</th>\n",
       "      <th>arrival_date_month_June</th>\n",
       "      <th>arrival_date_month_March</th>\n",
       "      <th>arrival_date_month_May</th>\n",
       "      <th>arrival_date_month_November</th>\n",
       "      <th>arrival_date_month_October</th>\n",
       "      <th>arrival_date_month_September</th>\n",
       "    </tr>\n",
       "  </thead>\n",
       "  <tbody>\n",
       "    <tr>\n",
       "      <th>0</th>\n",
       "      <td>3</td>\n",
       "      <td>0.0</td>\n",
       "      <td>0</td>\n",
       "      <td>0</td>\n",
       "      <td>0</td>\n",
       "      <td>1</td>\n",
       "      <td>0</td>\n",
       "      <td>0</td>\n",
       "      <td>0</td>\n",
       "      <td>0</td>\n",
       "      <td>...</td>\n",
       "      <td>0</td>\n",
       "      <td>0</td>\n",
       "      <td>0</td>\n",
       "      <td>1</td>\n",
       "      <td>0</td>\n",
       "      <td>0</td>\n",
       "      <td>0</td>\n",
       "      <td>0</td>\n",
       "      <td>0</td>\n",
       "      <td>0</td>\n",
       "    </tr>\n",
       "    <tr>\n",
       "      <th>1</th>\n",
       "      <td>3</td>\n",
       "      <td>0.0</td>\n",
       "      <td>0</td>\n",
       "      <td>0</td>\n",
       "      <td>0</td>\n",
       "      <td>1</td>\n",
       "      <td>0</td>\n",
       "      <td>0</td>\n",
       "      <td>0</td>\n",
       "      <td>0</td>\n",
       "      <td>...</td>\n",
       "      <td>0</td>\n",
       "      <td>0</td>\n",
       "      <td>0</td>\n",
       "      <td>1</td>\n",
       "      <td>0</td>\n",
       "      <td>0</td>\n",
       "      <td>0</td>\n",
       "      <td>0</td>\n",
       "      <td>0</td>\n",
       "      <td>0</td>\n",
       "    </tr>\n",
       "    <tr>\n",
       "      <th>2</th>\n",
       "      <td>1</td>\n",
       "      <td>75.0</td>\n",
       "      <td>0</td>\n",
       "      <td>0</td>\n",
       "      <td>0</td>\n",
       "      <td>1</td>\n",
       "      <td>0</td>\n",
       "      <td>0</td>\n",
       "      <td>0</td>\n",
       "      <td>0</td>\n",
       "      <td>...</td>\n",
       "      <td>0</td>\n",
       "      <td>0</td>\n",
       "      <td>0</td>\n",
       "      <td>1</td>\n",
       "      <td>0</td>\n",
       "      <td>0</td>\n",
       "      <td>0</td>\n",
       "      <td>0</td>\n",
       "      <td>0</td>\n",
       "      <td>0</td>\n",
       "    </tr>\n",
       "    <tr>\n",
       "      <th>3</th>\n",
       "      <td>1</td>\n",
       "      <td>75.0</td>\n",
       "      <td>0</td>\n",
       "      <td>0</td>\n",
       "      <td>1</td>\n",
       "      <td>0</td>\n",
       "      <td>0</td>\n",
       "      <td>0</td>\n",
       "      <td>0</td>\n",
       "      <td>0</td>\n",
       "      <td>...</td>\n",
       "      <td>0</td>\n",
       "      <td>0</td>\n",
       "      <td>0</td>\n",
       "      <td>1</td>\n",
       "      <td>0</td>\n",
       "      <td>0</td>\n",
       "      <td>0</td>\n",
       "      <td>0</td>\n",
       "      <td>0</td>\n",
       "      <td>0</td>\n",
       "    </tr>\n",
       "    <tr>\n",
       "      <th>4</th>\n",
       "      <td>2</td>\n",
       "      <td>98.0</td>\n",
       "      <td>0</td>\n",
       "      <td>0</td>\n",
       "      <td>0</td>\n",
       "      <td>0</td>\n",
       "      <td>0</td>\n",
       "      <td>0</td>\n",
       "      <td>1</td>\n",
       "      <td>0</td>\n",
       "      <td>...</td>\n",
       "      <td>0</td>\n",
       "      <td>0</td>\n",
       "      <td>0</td>\n",
       "      <td>1</td>\n",
       "      <td>0</td>\n",
       "      <td>0</td>\n",
       "      <td>0</td>\n",
       "      <td>0</td>\n",
       "      <td>0</td>\n",
       "      <td>0</td>\n",
       "    </tr>\n",
       "  </tbody>\n",
       "</table>\n",
       "<p>5 rows × 33 columns</p>\n",
       "</div>"
      ],
      "text/plain": [
       "   total_stay   adr  market_segment_Aviation  market_segment_Complementary  \\\n",
       "0           3   0.0                        0                             0   \n",
       "1           3   0.0                        0                             0   \n",
       "2           1  75.0                        0                             0   \n",
       "3           1  75.0                        0                             0   \n",
       "4           2  98.0                        0                             0   \n",
       "\n",
       "   market_segment_Corporate  market_segment_Direct  market_segment_Groups  \\\n",
       "0                         0                      1                      0   \n",
       "1                         0                      1                      0   \n",
       "2                         0                      1                      0   \n",
       "3                         1                      0                      0   \n",
       "4                         0                      0                      0   \n",
       "\n",
       "   market_segment_Offline TA/TO  market_segment_Online TA  hotel_City Hotel  \\\n",
       "0                             0                         0                 0   \n",
       "1                             0                         0                 0   \n",
       "2                             0                         0                 0   \n",
       "3                             0                         0                 0   \n",
       "4                             0                         1                 0   \n",
       "\n",
       "   ...  arrival_date_month_December  arrival_date_month_February  \\\n",
       "0  ...                            0                            0   \n",
       "1  ...                            0                            0   \n",
       "2  ...                            0                            0   \n",
       "3  ...                            0                            0   \n",
       "4  ...                            0                            0   \n",
       "\n",
       "   arrival_date_month_January  arrival_date_month_July  \\\n",
       "0                           0                        1   \n",
       "1                           0                        1   \n",
       "2                           0                        1   \n",
       "3                           0                        1   \n",
       "4                           0                        1   \n",
       "\n",
       "   arrival_date_month_June  arrival_date_month_March  arrival_date_month_May  \\\n",
       "0                        0                         0                       0   \n",
       "1                        0                         0                       0   \n",
       "2                        0                         0                       0   \n",
       "3                        0                         0                       0   \n",
       "4                        0                         0                       0   \n",
       "\n",
       "   arrival_date_month_November  arrival_date_month_October  \\\n",
       "0                            0                           0   \n",
       "1                            0                           0   \n",
       "2                            0                           0   \n",
       "3                            0                           0   \n",
       "4                            0                           0   \n",
       "\n",
       "   arrival_date_month_September  \n",
       "0                             0  \n",
       "1                             0  \n",
       "2                             0  \n",
       "3                             0  \n",
       "4                             0  \n",
       "\n",
       "[5 rows x 33 columns]"
      ]
     },
     "execution_count": 53,
     "metadata": {},
     "output_type": "execute_result"
    }
   ],
   "source": [
    "datareg = data[['market_segment','total_stay','hotel','adr','reserved_room_type','arrival_date_month']]\n",
    "datareg = pd.get_dummies(datareg, columns = ['market_segment', 'hotel','reserved_room_type','arrival_date_month'])\n",
    "datareg.head()"
   ]
  },
  {
   "cell_type": "markdown",
   "id": "666df47d",
   "metadata": {},
   "source": [
    "2. Dividir los datos en conjuntos de entrenamiento/prueba"
   ]
  },
  {
   "cell_type": "code",
   "execution_count": 54,
   "id": "2176cb50",
   "metadata": {},
   "outputs": [],
   "source": [
    "X = datareg.loc[:, datareg.columns != 'adr']\n",
    "y = datareg['adr']\n",
    "\n",
    "X_train, X_test, y_train, y_test = train_test_split(X, y, test_size=0.3, random_state=1)"
   ]
  },
  {
   "cell_type": "markdown",
   "id": "417e4469",
   "metadata": {},
   "source": [
    "3. Ajustamos el modelo de regresión lineal y listamos los coeficientes:"
   ]
  },
  {
   "cell_type": "code",
   "execution_count": 55,
   "id": "b7acdbaa",
   "metadata": {},
   "outputs": [
    {
     "name": "stdout",
     "output_type": "stream",
     "text": [
      "Coefficients:  [ 1.15984716e-01 -2.17112487e+12 -2.17112487e+12 -2.17112487e+12\n",
      " -2.17112487e+12 -2.17112487e+12 -2.17112487e+12 -2.17112487e+12\n",
      "  3.31434065e+11  3.31434065e+11  3.71080560e+11  3.71080560e+11\n",
      "  3.71080560e+11  3.71080560e+11  3.71080560e+11  3.71080560e+11\n",
      "  3.71080560e+11  3.71080560e+11  3.71080560e+11  3.71080560e+11\n",
      "  1.93718685e+10  1.93718685e+10  1.93718684e+10  1.93718684e+10\n",
      "  1.93718684e+10  1.93718685e+10  1.93718685e+10  1.93718684e+10\n",
      "  1.93718685e+10  1.93718684e+10  1.93718685e+10  1.93718685e+10]\n"
     ]
    }
   ],
   "source": [
    "reg = linear_model.LinearRegression()\n",
    "reg.fit(X_train, y_train)\n",
    " \n",
    "print('Coefficients: ', reg.coef_)"
   ]
  },
  {
   "cell_type": "markdown",
   "id": "d5d6eee6",
   "metadata": {},
   "source": [
    "4. Obtenemos el coeficiente de determinación:"
   ]
  },
  {
   "cell_type": "code",
   "execution_count": 56,
   "id": "3f72c547",
   "metadata": {
    "scrolled": true
   },
   "outputs": [
    {
     "name": "stdout",
     "output_type": "stream",
     "text": [
      "Variance score: 0.449236285199891\n"
     ]
    }
   ],
   "source": [
    "print('Variance score: {}'.format(reg.score(X_test, y_test)))"
   ]
  },
  {
   "cell_type": "markdown",
   "id": "87b413d6",
   "metadata": {},
   "source": [
    "La varianza debería de ser cercana a 1.0, por lo que este modelo, en realidad, no es muy bueno... Por lo que concluimos que los atributos incorporados al modelo no son suficientes para predecir el precio medio de una noche en el hotel."
   ]
  },
  {
   "cell_type": "markdown",
   "id": "b4ce1bb0",
   "metadata": {},
   "source": [
    "## 4.3. Correlación"
   ]
  },
  {
   "cell_type": "markdown",
   "id": "ac1f1664",
   "metadata": {},
   "source": [
    "No encontramos manera de optimizar el coste medio de la noche. ¿Será que las variables dependientes no están correlacionadas al $ adr $? "
   ]
  },
  {
   "cell_type": "code",
   "execution_count": 57,
   "id": "6a332f4e",
   "metadata": {},
   "outputs": [
    {
     "data": {
      "text/plain": [
       "<AxesSubplot:>"
      ]
     },
     "execution_count": 57,
     "metadata": {},
     "output_type": "execute_result"
    },
    {
     "data": {
      "image/png": "[encoded data removed]",
      "text/plain": [
       "<Figure size 792x648 with 2 Axes>"
      ]
     },
     "metadata": {},
     "output_type": "display_data"
    }
   ],
   "source": [
    "corr = data.corr()\n",
    "\n",
    "# Generate a mask for the upper triangle\n",
    "mask = np.triu(np.ones_like(corr, dtype=bool))\n",
    "\n",
    "# Set up the matplotlib figure\n",
    "f, ax = plt.subplots(figsize=(11, 9))\n",
    "\n",
    "# Generate a custom diverging colormap\n",
    "cmap = sns.diverging_palette(230, 20, as_cmap=True)\n",
    "\n",
    "# Draw the heatmap with the mask and correct aspect ratio\n",
    "sns.heatmap(corr, mask=mask, cmap=cmap, vmax=.3, center=0,\n",
    "            square=True, linewidths=.5, cbar_kws={\"shrink\": .5})"
   ]
  },
  {
   "cell_type": "markdown",
   "id": "320f7efd",
   "metadata": {},
   "source": [
    "Efectivamente, no existe relación alguna entre el precio medio de la noche y el resto de variables. Por esto mismo fracasaron nuestros análisis anteriores."
   ]
  },
  {
   "cell_type": "markdown",
   "id": "8782b648",
   "metadata": {},
   "source": [
    "Por último, nos aseguramos de guardar el conjunto de datos sobre el que hemos basado el análisis:"
   ]
  },
  {
   "cell_type": "code",
   "execution_count": 58,
   "id": "4ac5537b",
   "metadata": {},
   "outputs": [],
   "source": [
    "data.to_csv('hotel_bookings_processed.csv', index=False)"
   ]
  },
  {
   "cell_type": "markdown",
   "id": "6ddfdb2d",
   "metadata": {},
   "source": [
    "# 6. Conclusiones"
   ]
  },
  {
   "cell_type": "markdown",
   "id": "1bec396b",
   "metadata": {},
   "source": [
    "Al principio establecimos algunas hipótesis en base a la información que nos comunicaban de primera vista las visualizaciones. No obstante, y tras un análisis más profundo aplicando **técnicas estadísticas como el contraste de hipótesis y el modelo de regresión lineal**, descubrimos que estábamos equivocados. Pero no fue hasta que construimos la matriz de correlación que identificamos la razón del fallo, y es que **las variables seleccionadas no están relacionadas entre sí**, específicamente, no están relacionadas con el $ adr $.\n",
    "\n",
    "En conclusión, la duración de la estancia no determina el precio medio de la noche en la reserva de un hotel y no hay manera de predecir el precio tomando como punto de partida las variables seleccionads, por lo que un análisis más amplio es requerido."
   ]
  },
  {
   "cell_type": "markdown",
   "id": "2a0662ed",
   "metadata": {},
   "source": [
    "# 7. Contribuciones"
   ]
  },
  {
   "cell_type": "code",
   "execution_count": 60,
   "id": "0e244983",
   "metadata": {},
   "outputs": [
    {
     "data": {
      "text/html": [
       "<div>\n",
       "<style scoped>\n",
       "    .dataframe tbody tr th:only-of-type {\n",
       "        vertical-align: middle;\n",
       "    }\n",
       "\n",
       "    .dataframe tbody tr th {\n",
       "        vertical-align: top;\n",
       "    }\n",
       "\n",
       "    .dataframe thead th {\n",
       "        text-align: right;\n",
       "    }\n",
       "</style>\n",
       "<table border=\"1\" class=\"dataframe\">\n",
       "  <thead>\n",
       "    <tr style=\"text-align: right;\">\n",
       "      <th></th>\n",
       "      <th>Contribuciones</th>\n",
       "      <th>Firma</th>\n",
       "    </tr>\n",
       "  </thead>\n",
       "  <tbody>\n",
       "    <tr>\n",
       "      <th>0</th>\n",
       "      <td>Investigación previa</td>\n",
       "      <td>MM, NM</td>\n",
       "    </tr>\n",
       "    <tr>\n",
       "      <th>1</th>\n",
       "      <td>Redacción de las respuestas</td>\n",
       "      <td>MM, NM</td>\n",
       "    </tr>\n",
       "    <tr>\n",
       "      <th>2</th>\n",
       "      <td>Desarrollo código</td>\n",
       "      <td>MM, NM</td>\n",
       "    </tr>\n",
       "  </tbody>\n",
       "</table>\n",
       "</div>"
      ],
      "text/plain": [
       "                Contribuciones   Firma\n",
       "0         Investigación previa  MM, NM\n",
       "1  Redacción de las respuestas  MM, NM\n",
       "2            Desarrollo código  MM, NM"
      ]
     },
     "execution_count": 60,
     "metadata": {},
     "output_type": "execute_result"
    }
   ],
   "source": [
    "pd.DataFrame([\n",
    "    {\n",
    "        \"Contribuciones\": \"Investigación previa\",\n",
    "        \"Firma\": \"MM, NM\"\n",
    "    },\n",
    "    {\n",
    "        \"Contribuciones\": \"Redacción de las respuestas\",\n",
    "        \"Firma\": \"MM, NM\"\n",
    "    },\n",
    "    {\n",
    "        \"Contribuciones\": \"Desarrollo código\",\n",
    "        \"Firma\": \"MM, NM\"\n",
    "    }\n",
    "])"
   ]
  },
  {
   "cell_type": "code",
   "execution_count": null,
   "id": "cd3ffcdb",
   "metadata": {},
   "outputs": [],
   "source": []
  }
 ],
 "metadata": {
  "kernelspec": {
   "display_name": "Python 3",
   "language": "python",
   "name": "python3"
  },
  "language_info": {
   "codemirror_mode": {
    "name": "ipython",
    "version": 3
   },
   "file_extension": ".py",
   "mimetype": "text/x-python",
   "name": "python",
   "nbconvert_exporter": "python",
   "pygments_lexer": "ipython3",
   "version": "3.8.8"
  }
 },
 "nbformat": 4,
 "nbformat_minor": 5
}
